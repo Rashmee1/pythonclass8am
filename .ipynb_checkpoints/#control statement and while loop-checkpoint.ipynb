{
 "cells": [
  {
   "cell_type": "code",
   "execution_count": 3,
   "id": "b517500d",
   "metadata": {},
   "outputs": [
    {
     "name": "stdout",
     "output_type": "stream",
     "text": [
      "enter any value n=5\n",
      "0,1,1,2,3,"
     ]
    }
   ],
   "source": [
    "#fibonacci series using for loop\n",
    "a=0\n",
    "b=1\n",
    "c=0\n",
    "n=int(input(\"enter any value n=\"))\n",
    "for i in range(0, n):\n",
    "    print(c, end=\",\")\n",
    "    a=b\n",
    "    b=c\n",
    "    c=a+b\n",
    "\n"
   ]
  },
  {
   "cell_type": "code",
   "execution_count": 11,
   "id": "6993f40d",
   "metadata": {},
   "outputs": [
    {
     "name": "stdout",
     "output_type": "stream",
     "text": [
      "enter any value n=15\n",
      "0,1,1,2,3,5,8,13,21,34,55,89,144,233,377,"
     ]
    }
   ],
   "source": [
    "#fibonacci series\n",
    "a=0\n",
    "b=1\n",
    "c=0\n",
    "n=int(input(\"enter any value n=\"))\n",
    "if(n<=0):\n",
    "    print(\"enter value greater than 0\")\n",
    "else:\n",
    "     for i in range(0, n):\n",
    "            print(c, end=\",\")\n",
    "            a=b\n",
    "            b=c\n",
    "            c=a+b"
   ]
  },
  {
   "cell_type": "code",
   "execution_count": 20,
   "id": "9062daf2",
   "metadata": {},
   "outputs": [
    {
     "name": "stdout",
     "output_type": "stream",
     "text": [
      "enter any n=5\n",
      "1\n",
      "2\n",
      "6\n",
      "24\n",
      "120\n"
     ]
    }
   ],
   "source": [
    "n=int(input(\"enter any n=\"))\n",
    "i=1\n",
    "fac=1\n",
    "while(i<n+1):\n",
    "    fac=fac*i\n",
    "    print(fac)\n",
    "    i=1+i\n",
    "    "
   ]
  },
  {
   "cell_type": "code",
   "execution_count": 1,
   "id": "f8c4aed2",
   "metadata": {},
   "outputs": [
    {
     "name": "stdout",
     "output_type": "stream",
     "text": [
      "enter n=3\n",
      "prime no\n"
     ]
    }
   ],
   "source": [
    "n=int(input(\"enter n=\"))\n",
    "for i in range(2,n):\n",
    "\n",
    "    if n%i==0:\n",
    "        print(\"composite number\")\n",
    "        break\n",
    "else:\n",
    "        print(\"prime no\" )"
   ]
  },
  {
   "cell_type": "code",
   "execution_count": null,
   "id": "4717db44",
   "metadata": {},
   "outputs": [],
   "source": [
    "n=int(input(\"enter n=\"))\n",
    "i=2\n",
    "while i<=n:\n",
    "    if n%i==0:\n",
    "        print(\"composite number\")\n",
    "    else:\n",
    "        print(\"prime no\" )\n",
    "i=1+i\n",
    "    "
   ]
  },
  {
   "cell_type": "code",
   "execution_count": 5,
   "id": "a9a97281",
   "metadata": {},
   "outputs": [
    {
     "name": "stdout",
     "output_type": "stream",
     "text": [
      "hellopython"
     ]
    }
   ],
   "source": [
    "a=\"hello python\"\n",
    "for i in a:\n",
    "    if i==\" \":\n",
    "        continue\n",
    "    print(i,end=\"\")\n"
   ]
  },
  {
   "cell_type": "code",
   "execution_count": 6,
   "id": "ee7f1e11",
   "metadata": {},
   "outputs": [
    {
     "name": "stdout",
     "output_type": "stream",
     "text": [
      "hello"
     ]
    }
   ],
   "source": [
    "a=\"hello python\"\n",
    "for i in a:\n",
    "    if i==\" \":\n",
    "        break\n",
    "    print(i,end=\"\")"
   ]
  },
  {
   "cell_type": "code",
   "execution_count": 7,
   "id": "486d802a",
   "metadata": {},
   "outputs": [
    {
     "name": "stdout",
     "output_type": "stream",
     "text": [
      "0\n",
      "3\n",
      "6\n",
      "9\n",
      "12\n",
      "15\n",
      "18\n",
      "21\n",
      "24\n",
      "27\n",
      "30\n",
      "33\n",
      "36\n",
      "39\n",
      "42\n",
      "45\n",
      "48\n"
     ]
    }
   ],
   "source": [
    "for i in range(50):\n",
    "    if i%3!=0:\n",
    "        continue\n",
    "    print(i)"
   ]
  },
  {
   "cell_type": "code",
   "execution_count": 12,
   "id": "6567623a",
   "metadata": {},
   "outputs": [
    {
     "name": "stdout",
     "output_type": "stream",
     "text": [
      "enter any number n=10\n",
      "1 * 10 = 10\n",
      "2 * 10 = 20\n",
      "3 * 10 = 30\n",
      "4 * 10 = 40\n",
      "5 * 10 = 50\n",
      "6 * 10 = 60\n",
      "7 * 10 = 70\n",
      "8 * 10 = 80\n",
      "9 * 10 = 90\n",
      "10 * 10 = 100\n"
     ]
    }
   ],
   "source": [
    "i=1\n",
    "n=int(input(\"enter any number n=\"))\n",
    "while i<=10:\n",
    "    print(i,\"*\",n,\"=\",i*n)\n",
    "    i=i+1"
   ]
  },
  {
   "cell_type": "code",
   "execution_count": 3,
   "id": "ed3dc965",
   "metadata": {},
   "outputs": [
    {
     "name": "stdout",
     "output_type": "stream",
     "text": [
      "enter any number n=2\n",
      "enter any number x=4\n",
      "4\n",
      "enter any number x=5\n",
      "9\n"
     ]
    }
   ],
   "source": [
    "n=int(input(\"enter any number n=\"))\n",
    "i=0\n",
    "s=0\n",
    "while i<n:\n",
    "    x=int(input(\"enter any number x=\"))\n",
    "    s=s+x\n",
    "    print(s)\n",
    "    \n",
    "    i=1+i\n",
    "    "
   ]
  },
  {
   "cell_type": "code",
   "execution_count": null,
   "id": "fd6c19e1",
   "metadata": {},
   "outputs": [],
   "source": []
  }
 ],
 "metadata": {
  "kernelspec": {
   "display_name": "Python 3",
   "language": "python",
   "name": "python3"
  },
  "language_info": {
   "codemirror_mode": {
    "name": "ipython",
    "version": 3
   },
   "file_extension": ".py",
   "mimetype": "text/x-python",
   "name": "python",
   "nbconvert_exporter": "python",
   "pygments_lexer": "ipython3",
   "version": "3.8.8"
  }
 },
 "nbformat": 4,
 "nbformat_minor": 5
}
