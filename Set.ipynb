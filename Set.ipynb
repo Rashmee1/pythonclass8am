{
 "cells": [
  {
   "cell_type": "code",
   "execution_count": 2,
   "id": "8c5762ff",
   "metadata": {},
   "outputs": [
    {
     "name": "stdout",
     "output_type": "stream",
     "text": [
      "{1, 2, 3}\n",
      "<class 'set'>\n"
     ]
    }
   ],
   "source": [
    "a={1,2,3,3}\n",
    "print(a)\n",
    "print(type(a))"
   ]
  },
  {
   "cell_type": "code",
   "execution_count": 3,
   "id": "495380a0",
   "metadata": {},
   "outputs": [
    {
     "name": "stdout",
     "output_type": "stream",
     "text": [
      "{1, 2, 3, 6, 7}\n"
     ]
    }
   ],
   "source": [
    "a={1, 2, 3}\n",
    "b={6,7}\n",
    "a.update(b)\n",
    "print(a)"
   ]
  },
  {
   "cell_type": "code",
   "execution_count": 6,
   "id": "a87f2d7b",
   "metadata": {},
   "outputs": [
    {
     "data": {
      "text/plain": [
       "{2, 3}"
      ]
     },
     "execution_count": 6,
     "metadata": {},
     "output_type": "execute_result"
    }
   ],
   "source": [
    "a={1, 2, 3}\n",
    "a.remove(1)\n",
    "a\n"
   ]
  },
  {
   "cell_type": "code",
   "execution_count": 8,
   "id": "98e6075e",
   "metadata": {},
   "outputs": [
    {
     "name": "stdout",
     "output_type": "stream",
     "text": [
      "enter n=2\n",
      "enter x=jd\n",
      "enter x=ui\n",
      "{'ui', 'jd'}\n"
     ]
    }
   ],
   "source": [
    "a=set()\n",
    "n=int(input(\"enter n=\"))\n",
    "for i in range (n):\n",
    "    x=input(\"enter x=\")\n",
    "    a.add(x)\n",
    "print(a)"
   ]
  },
  {
   "cell_type": "code",
   "execution_count": 9,
   "id": "62cdd2fd",
   "metadata": {},
   "outputs": [
    {
     "name": "stdout",
     "output_type": "stream",
     "text": [
      "{'rt', 'ui', 'jd'}\n"
     ]
    }
   ],
   "source": [
    "c={'ui', 'jd','rt','ui','jd'}\n",
    "print(c)\n"
   ]
  },
  {
   "cell_type": "code",
   "execution_count": 10,
   "id": "9865c56c",
   "metadata": {},
   "outputs": [
    {
     "data": {
      "text/plain": [
       "{'jd', 'rt', 'ui'}"
      ]
     },
     "execution_count": 10,
     "metadata": {},
     "output_type": "execute_result"
    }
   ],
   "source": [
    "c={'ui', 'jd','rt','ui','jd'}\n",
    "d={'rt', 'ui', 'jd'}\n",
    "c.intersection(d)\n"
   ]
  },
  {
   "cell_type": "code",
   "execution_count": 11,
   "id": "a625db56",
   "metadata": {},
   "outputs": [
    {
     "data": {
      "text/plain": [
       "{'fo', 'jd', 'rt', 'ui', 'uio'}"
      ]
     },
     "execution_count": 11,
     "metadata": {},
     "output_type": "execute_result"
    }
   ],
   "source": [
    "c={'ui', 'jd','rt','ui','jd'}\n",
    "d={'rt', 'uio', 'fo'}\n",
    "c.union(d)\n"
   ]
  },
  {
   "cell_type": "code",
   "execution_count": 1,
   "id": "b3c2d854",
   "metadata": {},
   "outputs": [
    {
     "name": "stdout",
     "output_type": "stream",
     "text": [
      "set()\n"
     ]
    }
   ],
   "source": [
    "c={'ui', 'jd','rt','ui','jd'}\n",
    "d={'rt', 'ui', 'jd'}\n",
    "e={'yui','tyu','jkl'}\n",
    "c.intersection(d)\n",
    "print(c.difference(d))\n"
   ]
  },
  {
   "cell_type": "code",
   "execution_count": 1,
   "id": "77047e96",
   "metadata": {},
   "outputs": [
    {
     "data": {
      "text/plain": [
       "False"
      ]
     },
     "execution_count": 1,
     "metadata": {},
     "output_type": "execute_result"
    }
   ],
   "source": [
    "a = {\"Ram\",\"Shyam\",\"Hari\",\"Sita\",\"Gita\"}\n",
    "b = {\"Ram\",\"Hari\"}\n",
    "a.issubset(b)"
   ]
  },
  {
   "cell_type": "code",
   "execution_count": null,
   "id": "47adc157",
   "metadata": {},
   "outputs": [],
   "source": []
  }
 ],
 "metadata": {
  "kernelspec": {
   "display_name": "Python 3",
   "language": "python",
   "name": "python3"
  },
  "language_info": {
   "codemirror_mode": {
    "name": "ipython",
    "version": 3
   },
   "file_extension": ".py",
   "mimetype": "text/x-python",
   "name": "python",
   "nbconvert_exporter": "python",
   "pygments_lexer": "ipython3",
   "version": "3.8.8"
  }
 },
 "nbformat": 4,
 "nbformat_minor": 5
}
