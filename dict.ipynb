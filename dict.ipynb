{
 "cells": [
  {
   "cell_type": "code",
   "execution_count": 1,
   "id": "b28f28aa",
   "metadata": {},
   "outputs": [
    {
     "name": "stdout",
     "output_type": "stream",
     "text": [
      "<class 'dict'>\n"
     ]
    }
   ],
   "source": [
    "a={'ram':9806789}\n",
    "print(type(a))"
   ]
  },
  {
   "cell_type": "code",
   "execution_count": 2,
   "id": "9c5fdebe",
   "metadata": {},
   "outputs": [
    {
     "name": "stdout",
     "output_type": "stream",
     "text": [
      "{'ram': 'rtyu', 'rtyguit': 'yyyu'}\n"
     ]
    }
   ],
   "source": [
    "a={\"ram\":\"rtyu\",\"rtyguit\":\"yyyu\"}\n",
    "print(a)"
   ]
  },
  {
   "cell_type": "code",
   "execution_count": 3,
   "id": "a9a0b433",
   "metadata": {},
   "outputs": [
    {
     "data": {
      "text/plain": [
       "2"
      ]
     },
     "execution_count": 3,
     "metadata": {},
     "output_type": "execute_result"
    }
   ],
   "source": [
    "a={'ram': 'rtyu', 'rtyguit': 'yyyu'}\n",
    "len(a)"
   ]
  },
  {
   "cell_type": "code",
   "execution_count": 4,
   "id": "1fd6ef27",
   "metadata": {},
   "outputs": [
    {
     "name": "stdout",
     "output_type": "stream",
     "text": [
      "{'A': 'rtyu', 'B': 'bat'}\n"
     ]
    }
   ],
   "source": [
    "a={\"A\":\"rtyu\",\"B\":\"yyyu\"}\n",
    "a[\"B\"]=\"bat\"\n",
    "print(a)\n"
   ]
  },
  {
   "cell_type": "code",
   "execution_count": 5,
   "id": "15e1c093",
   "metadata": {},
   "outputs": [
    {
     "name": "stdout",
     "output_type": "stream",
     "text": [
      "{'A': 'rtyu', 'B': 'yyyu', 'b': 'bat'}\n"
     ]
    }
   ],
   "source": [
    "a={\"A\":\"rtyu\",\"B\":\"yyyu\"}\n",
    "a[\"b\"]=\"bat\"\n",
    "print(a)\n"
   ]
  },
  {
   "cell_type": "code",
   "execution_count": 7,
   "id": "2023d294",
   "metadata": {},
   "outputs": [
    {
     "name": "stdout",
     "output_type": "stream",
     "text": [
      "{1: 'ram', 2: 'shyam'}\n"
     ]
    }
   ],
   "source": [
    "a=dict()\n",
    "a[1]=\"ram\"\n",
    "a[2]=\"shyam\"\n",
    "print(a)"
   ]
  },
  {
   "cell_type": "code",
   "execution_count": 8,
   "id": "a8c71978",
   "metadata": {
    "scrolled": true
   },
   "outputs": [
    {
     "name": "stdout",
     "output_type": "stream",
     "text": [
      "enter n=2\n",
      "enter any valuetara\n",
      "enter any value678900\n",
      "enter any valuetyuo\n",
      "enter any value7890\n",
      "{'tara': 678900, 'tyuo': 7890}\n"
     ]
    }
   ],
   "source": [
    "a=dict()\n",
    "n=int(input(\"enter n=\"))\n",
    "for i in range (n):\n",
    "    name=input(\"enter any value\")\n",
    "    number=int(input(\"enter any value\"))\n",
    "    a[name]=number\n",
    "print(a)"
   ]
  },
  {
   "cell_type": "code",
   "execution_count": 9,
   "id": "ed8aee5d",
   "metadata": {},
   "outputs": [
    {
     "name": "stdout",
     "output_type": "stream",
     "text": [
      "tara\n",
      "tyuo\n"
     ]
    }
   ],
   "source": [
    "a={'tara': 678900, 'tyuo': 7890}\n",
    "for i in a:\n",
    "    print(i)"
   ]
  },
  {
   "cell_type": "code",
   "execution_count": 12,
   "id": "6e8caee6",
   "metadata": {},
   "outputs": [
    {
     "name": "stdout",
     "output_type": "stream",
     "text": [
      "('tara', 678900)\n",
      "('tyuo', 7890)\n"
     ]
    }
   ],
   "source": [
    "a={'tara': 678900, 'tyuo': 7890}\n",
    "for i in a.items():\n",
    "    print(i)"
   ]
  },
  {
   "cell_type": "code",
   "execution_count": 13,
   "id": "400c6908",
   "metadata": {},
   "outputs": [
    {
     "name": "stdout",
     "output_type": "stream",
     "text": [
      "678900\n",
      "7890\n"
     ]
    }
   ],
   "source": [
    "a={'tara': 678900, 'tyuo': 7890}\n",
    "for i in a.values():\n",
    "    print(i)"
   ]
  },
  {
   "cell_type": "code",
   "execution_count": 21,
   "id": "e00f0286",
   "metadata": {},
   "outputs": [
    {
     "name": "stdout",
     "output_type": "stream",
     "text": [
      "[('tara', 678900), ('tyuo', 7890)]\n"
     ]
    }
   ],
   "source": [
    "a=[]\n",
    "b={'tara': 678900, 'tyuo': 7890}\n",
    "for i in b.items():\n",
    "    a.append(i)\n",
    "print(a)"
   ]
  },
  {
   "cell_type": "code",
   "execution_count": 24,
   "id": "6dcf2274",
   "metadata": {},
   "outputs": [
    {
     "data": {
      "text/plain": [
       "{'tara': 678900, 'tyuo': 7890}"
      ]
     },
     "execution_count": 24,
     "metadata": {},
     "output_type": "execute_result"
    }
   ],
   "source": [
    "d=[('tara', 678900), ('tyuo', 7890)]\n",
    "dict(d)"
   ]
  },
  {
   "cell_type": "code",
   "execution_count": 26,
   "id": "7fd8e912",
   "metadata": {},
   "outputs": [
    {
     "name": "stdout",
     "output_type": "stream",
     "text": [
      "{'tara': 678900, 'tyuo': 7890, 'hari': 98076655}\n"
     ]
    }
   ],
   "source": [
    "a={'tara': 678900, 'tyuo': 7890}\n",
    "a[\"hari\"]=98076655\n",
    "print(a)"
   ]
  },
  {
   "cell_type": "code",
   "execution_count": 29,
   "id": "e612f351",
   "metadata": {},
   "outputs": [
    {
     "name": "stdout",
     "output_type": "stream",
     "text": [
      "{'tara': 678900, 'tyuo': 7890, 'hari': 98076655}\n"
     ]
    }
   ],
   "source": [
    "a={'tara': 678900, 'tyuo': 7890}\n",
    "b={\"hari\":98076655}\n",
    "a.update(b)\n",
    "print(a)"
   ]
  },
  {
   "cell_type": "code",
   "execution_count": 31,
   "id": "68996604",
   "metadata": {},
   "outputs": [
    {
     "data": {
      "text/plain": [
       "{'tyuo': 7890, 'hari': 98076655}"
      ]
     },
     "execution_count": 31,
     "metadata": {},
     "output_type": "execute_result"
    }
   ],
   "source": [
    "a={'tara': 678900, 'tyuo': 7890, 'hari': 98076655}\n",
    "del a['tara']\n",
    "a"
   ]
  },
  {
   "cell_type": "code",
   "execution_count": 34,
   "id": "b1a25880",
   "metadata": {},
   "outputs": [
    {
     "name": "stdout",
     "output_type": "stream",
     "text": [
      "{'tyuo': 7890}\n"
     ]
    },
    {
     "data": {
      "text/plain": [
       "98076655"
      ]
     },
     "execution_count": 34,
     "metadata": {},
     "output_type": "execute_result"
    }
   ],
   "source": [
    "a={'tyuo': 7890, 'hari': 98076655}\n",
    "b=a.pop('hari')\n",
    "print(a)\n",
    "b"
   ]
  },
  {
   "cell_type": "code",
   "execution_count": 3,
   "id": "39e87aab",
   "metadata": {},
   "outputs": [
    {
     "name": "stdout",
     "output_type": "stream",
     "text": [
      "enter n=2\n",
      "enter name=rr\n",
      "enter age=34\n",
      "enter any add=thy\n",
      "enter name=gv\n",
      "enter age=4\n",
      "enter any add=rr\n",
      "{1: ['rr', 34, 'thy'], 2: ['gv', 4, 'rr']}\n"
     ]
    }
   ],
   "source": [
    "info={}\n",
    "n=int(input(\"enter n=\"))\n",
    "for i in range (1,n+1):\n",
    "    name=input(\"enter name=\")\n",
    "    age=int(input(\"enter age=\"))\n",
    "    add=input(\"enter any add=\")\n",
    "    info[i]= [name,age,add]\n",
    "    \n",
    "print(info)"
   ]
  },
  {
   "cell_type": "code",
   "execution_count": 4,
   "id": "19befb23",
   "metadata": {},
   "outputs": [
    {
     "name": "stdout",
     "output_type": "stream",
     "text": [
      "enter n=1\n",
      "enter any valuety\n",
      "enter any value890\n",
      "enter any value890\n",
      "{'ty': [890, 890]}\n"
     ]
    }
   ],
   "source": [
    "\n",
    "a=dict()\n",
    "n=int(input(\"enter n=\"))\n",
    "for i in range (n):\n",
    "    name=input(\"enter any value\")\n",
    "    ntc=int(input(\"enter any value\"))\n",
    "    ncl=int(input(\"enter any value\"))\n",
    "    a[name]=[ntc,ncl]\n",
    "print(a)"
   ]
  },
  {
   "cell_type": "code",
   "execution_count": 8,
   "id": "857acb73",
   "metadata": {},
   "outputs": [
    {
     "data": {
      "text/plain": [
       "{'ty': [7890, 890]}"
      ]
     },
     "execution_count": 8,
     "metadata": {},
     "output_type": "execute_result"
    }
   ],
   "source": [
    "a={'ty': [890, 890]}\n",
    "a['ty'][0]=7890\n",
    "a"
   ]
  },
  {
   "cell_type": "code",
   "execution_count": 11,
   "id": "47d7d7ba",
   "metadata": {},
   "outputs": [
    {
     "name": "stdout",
     "output_type": "stream",
     "text": [
      "890\n"
     ]
    }
   ],
   "source": [
    "a={'ty': [890, 890]}\n",
    "print(a['ty'][0])\n"
   ]
  },
  {
   "cell_type": "code",
   "execution_count": 5,
   "id": "ce5f76aa",
   "metadata": {},
   "outputs": [
    {
     "name": "stdout",
     "output_type": "stream",
     "text": [
      "enter n=2\n",
      "enter any name=fhhkws\n",
      "enter any value  for physics th=7\n",
      "enter any value for physics pr=8\n",
      "enter any value for chemistry th6\n",
      "enter any value for chemistry pr=8\n",
      "enter any value for math=67\n",
      "enter any value for english=90\n",
      "enter any name=89\n",
      "enter any value  for physics th=56\n",
      "enter any value for physics pr=78\n",
      "enter any value for chemistry th89\n",
      "enter any value for chemistry pr=78\n",
      "enter any value for math=789\n",
      "enter any value for english=789\n",
      "{1: {'name': 'fhhkws', 'physics': {'th': 7, 'pr': 8}, 'chemistry': {'th': 6, 'pr': 8}, 'math': 67, 'english': 90}, 2: {'name': '89', 'physics': {'th': 56, 'pr': 78}, 'chemistry': {'th': 89, 'pr': 78}, 'math': 789, 'english': 789}}\n"
     ]
    }
   ],
   "source": [
    "a=dict()\n",
    "n=int(input(\"enter n=\"))\n",
    "for i in range (1,n+1):\n",
    "    name=input(\"enter any name=\")\n",
    "    physics_th=int(input(\"enter any value  for physics th=\"))\n",
    "    physics_pr=int(input(\"enter any value for physics pr=\"))\n",
    "    chemistry_th=int(input(\"enter any value for chemistry th=\"))\n",
    "    chemistry_pr=int(input(\"enter any value for chemistry pr=\"))\n",
    "    math=int(input(\"enter any value for math=\"))\n",
    "    english=int(input(\"enter any value for english=\"))\n",
    "    c={\"name\":name,\"physics\":{\"th\":physics_th,\"pr\":physics_pr},\"chemistry\":{\"th\":chemistry_th,\"pr\":chemistry_pr},\"math\":math,\"english\":english}\n",
    "    a[i]=c\n",
    "print(a)\n",
    "    "
   ]
  },
  {
   "cell_type": "code",
   "execution_count": null,
   "id": "f789cf3c",
   "metadata": {},
   "outputs": [],
   "source": []
  },
  {
   "cell_type": "code",
   "execution_count": null,
   "id": "0f09e1b4",
   "metadata": {},
   "outputs": [],
   "source": []
  }
 ],
 "metadata": {
  "kernelspec": {
   "display_name": "Python 3",
   "language": "python",
   "name": "python3"
  },
  "language_info": {
   "codemirror_mode": {
    "name": "ipython",
    "version": 3
   },
   "file_extension": ".py",
   "mimetype": "text/x-python",
   "name": "python",
   "nbconvert_exporter": "python",
   "pygments_lexer": "ipython3",
   "version": "3.8.8"
  }
 },
 "nbformat": 4,
 "nbformat_minor": 5
}
