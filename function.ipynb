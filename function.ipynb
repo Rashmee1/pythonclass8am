{
 "cells": [
  {
   "cell_type": "code",
   "execution_count": 6,
   "id": "622b9b61",
   "metadata": {},
   "outputs": [
    {
     "name": "stdout",
     "output_type": "stream",
     "text": [
      "rita\n"
     ]
    }
   ],
   "source": [
    "def hello():\n",
    "    print(\"rita\")\n",
    "hello()"
   ]
  },
  {
   "cell_type": "code",
   "execution_count": 11,
   "id": "dc10eac4",
   "metadata": {},
   "outputs": [
    {
     "name": "stdout",
     "output_type": "stream",
     "text": [
      "enter any value l=5\n",
      "enter any value b=6\n",
      "30\n"
     ]
    }
   ],
   "source": [
    "l=int(input(\"enter any value l=\")) #global variable\n",
    "b=int(input(\"enter any value b=\"))\n",
    "\n",
    "def area():\n",
    "        a=l*b\n",
    "        print(a)\n",
    "area()\n",
    "    "
   ]
  },
  {
   "cell_type": "code",
   "execution_count": 16,
   "id": "4056cb75",
   "metadata": {},
   "outputs": [
    {
     "name": "stdout",
     "output_type": "stream",
     "text": [
      "enter any value l=12\n",
      "enter any value b=23\n",
      "enter any value h=56\n",
      "15456\n"
     ]
    }
   ],
   "source": [
    "def area(x,y):\n",
    "    a=x*y\n",
    "    return a\n",
    "l=int(input(\"enter any value l=\"))\n",
    "b=int(input(\"enter any value b=\"))\n",
    "h=int(input(\"enter any value h=\"))\n",
    "ar=area(l,b)\n",
    "v=ar*h\n",
    "print(v)\n"
   ]
  },
  {
   "cell_type": "code",
   "execution_count": 7,
   "id": "aa7adb19",
   "metadata": {},
   "outputs": [
    {
     "name": "stdout",
     "output_type": "stream",
     "text": [
      "java\n",
      "c\n",
      "python\n"
     ]
    }
   ],
   "source": [
    "def language(lan= \"python\"):\n",
    "      print(lan)\n",
    "\n",
    "language(\"java\")\n",
    "language(\"c\")\n",
    "language()\n"
   ]
  },
  {
   "cell_type": "code",
   "execution_count": 2,
   "id": "1dd97c44",
   "metadata": {},
   "outputs": [
    {
     "name": "stdout",
     "output_type": "stream",
     "text": [
      "enter any value l=5\n",
      "enter any value b=5\n",
      "enter any value h=5\n",
      "15\n"
     ]
    }
   ],
   "source": [
    "def para(l,b,h):\n",
    "    p=l+b+h\n",
    "    return p\n",
    "l=int(input(\"enter any value l=\"))\n",
    "b=int(input(\"enter any value b=\"))\n",
    "h=int(input(\"enter any value h=\"))\n",
    "print(para(l,b,h))\n",
    "\n"
   ]
  },
  {
   "cell_type": "code",
   "execution_count": 13,
   "id": "46a8b5d1",
   "metadata": {},
   "outputs": [
    {
     "name": "stdout",
     "output_type": "stream",
     "text": [
      "enter any value l=5\n",
      "enter any value b=6\n",
      "30\n"
     ]
    }
   ],
   "source": [
    "def area():\n",
    "    l=int(input(\"enter any value l=\")) #local variable\n",
    "    b=int(input(\"enter any value b=\"))\n",
    "    a=l*b\n",
    "    print(a)\n",
    "area()\n",
    "    "
   ]
  },
  {
   "cell_type": "code",
   "execution_count": 15,
   "id": "8f093354",
   "metadata": {},
   "outputs": [
    {
     "name": "stdout",
     "output_type": "stream",
     "text": [
      "enter any value l=5\n",
      "enter any value b=6\n",
      "30\n"
     ]
    }
   ],
   "source": [
    "def area():\n",
    "    a=l*b\n",
    "    print (a)\n",
    "\n",
    "l=int(input(\"enter any value l=\")) #global variable\n",
    "b=int(input(\"enter any value b=\"))\n",
    "\n",
    "area()"
   ]
  },
  {
   "cell_type": "code",
   "execution_count": 16,
   "id": "85799355",
   "metadata": {},
   "outputs": [
    {
     "name": "stdout",
     "output_type": "stream",
     "text": [
      "apple ball\n"
     ]
    }
   ],
   "source": [
    "a='apple'\n",
    "b='ball' #global\n",
    "\n",
    "def fofo():\n",
    "    print(a,b)\n",
    "fofo()"
   ]
  },
  {
   "cell_type": "code",
   "execution_count": 21,
   "id": "18570b59",
   "metadata": {},
   "outputs": [
    {
     "name": "stdout",
     "output_type": "stream",
     "text": [
      "applebanana\n",
      "apple banana\n"
     ]
    }
   ],
   "source": [
    "def fofo():\n",
    "    global a,b\n",
    "    a='apple'  #local to global\n",
    "    b='banana'\n",
    "    c=a+b\n",
    "    print (c)\n",
    "fofo()\n",
    "print(a,b)"
   ]
  },
  {
   "cell_type": "code",
   "execution_count": 20,
   "id": "948de889",
   "metadata": {},
   "outputs": [
    {
     "name": "stdout",
     "output_type": "stream",
     "text": [
      "applebanana\n",
      "apple banana\n"
     ]
    }
   ],
   "source": [
    "def fofo(): #global\n",
    "    c=a+b\n",
    "    print (c)\n",
    "a='apple'\n",
    "b='banana'\n",
    "\n",
    "fofo()\n",
    "print(a,b)"
   ]
  },
  {
   "cell_type": "code",
   "execution_count": 22,
   "id": "53deebc2",
   "metadata": {},
   "outputs": [
    {
     "name": "stdout",
     "output_type": "stream",
     "text": [
      "hello world\n"
     ]
    }
   ],
   "source": [
    "def hello():\n",
    "    print(\"hello world\")\n",
    "hello()"
   ]
  },
  {
   "cell_type": "code",
   "execution_count": 32,
   "id": "fd665791",
   "metadata": {},
   "outputs": [
    {
     "name": "stdout",
     "output_type": "stream",
     "text": [
      "hello\n"
     ]
    }
   ],
   "source": [
    "def hello(x):\n",
    "    print(x)\n",
    "hello(\"hello\")"
   ]
  },
  {
   "cell_type": "code",
   "execution_count": 34,
   "id": "216c2e74",
   "metadata": {},
   "outputs": [
    {
     "name": "stdout",
     "output_type": "stream",
     "text": [
      "24\n"
     ]
    }
   ],
   "source": [
    "def area(l,b):\n",
    "    a=l*b\n",
    "    print (a)\n",
    "area(3,8)"
   ]
  },
  {
   "cell_type": "code",
   "execution_count": 35,
   "id": "6a6ad561",
   "metadata": {},
   "outputs": [
    {
     "name": "stdout",
     "output_type": "stream",
     "text": [
      "enter any value l=5\n",
      "enter any value b=6\n",
      "30\n"
     ]
    }
   ],
   "source": [
    "def area(x,y):\n",
    "    a=x*y\n",
    "    print (a)\n",
    "\n",
    "l=int(input(\"enter any value l=\")) #global variable\n",
    "b=int(input(\"enter any value b=\"))\n",
    "\n",
    "area(l,b)"
   ]
  },
  {
   "cell_type": "code",
   "execution_count": 36,
   "id": "f3733c81",
   "metadata": {},
   "outputs": [
    {
     "name": "stdout",
     "output_type": "stream",
     "text": [
      "enter any value l=5\n",
      "enter any value b=5\n",
      "25\n",
      "250\n"
     ]
    }
   ],
   "source": [
    "def volume(x,y,h=10):\n",
    "    a=x*y\n",
    "    print (a)\n",
    "    v=a*h\n",
    "    print(v)\n",
    "\n",
    "l=int(input(\"enter any value l=\")) #global variable\n",
    "b=int(input(\"enter any value b=\"))\n",
    "\n",
    "volume(l,b)"
   ]
  },
  {
   "cell_type": "code",
   "execution_count": 8,
   "id": "20c7bc9e",
   "metadata": {},
   "outputs": [
    {
     "name": "stdout",
     "output_type": "stream",
     "text": [
      "hello\n"
     ]
    }
   ],
   "source": [
    "def mom():\n",
    "    return(\"hello\")\n",
    "print(mom())"
   ]
  },
  {
   "cell_type": "code",
   "execution_count": 18,
   "id": "3fe1528f",
   "metadata": {},
   "outputs": [
    {
     "name": "stdout",
     "output_type": "stream",
     "text": [
      "enter any value l=5\n",
      "enter any value b=5\n",
      "ente any value h=5\n",
      "125\n"
     ]
    }
   ],
   "source": [
    "def area(x,y,z):\n",
    "    a=x*y*z\n",
    "\n",
    "    return (a)\n",
    "l=int(input(\"enter any value l=\"))\n",
    "b=int(input(\"enter any value b=\"))\n",
    "h=int(input(\"ente any value h=\"))\n",
    "print(area(l,b,h))\n",
    "\n",
    "    "
   ]
  },
  {
   "cell_type": "code",
   "execution_count": 6,
   "id": "2187ce9f",
   "metadata": {},
   "outputs": [
    {
     "name": "stdout",
     "output_type": "stream",
     "text": [
      "enter any value a=6\n",
      "enter any value b=7\n",
      "enter +,-,*,/=/\n",
      "0.8571428571428571\n",
      "enter y for more call=y\n",
      "enter any value a=7\n",
      "enter any value b=6\n",
      "enter +,-,*,/=+\n",
      "13\n",
      "enter y for more call=i\n"
     ]
    }
   ],
   "source": [
    "def add(a,b):\n",
    "    return(a+b)\n",
    "def sub(a,b):\n",
    "    return(a-b)\n",
    "def mul(a,b):\n",
    "    return (a*b)\n",
    "def div(a,b):\n",
    "    return (a/b)\n",
    "def cal():\n",
    "    a=int(input(\"enter any value a=\"))\n",
    "    b=int(input(\"enter any value b=\"))\n",
    "    o=input(\"enter +,-,*,/=\")\n",
    "    if o=='+':\n",
    "        print(add(a,b))\n",
    "    elif o=='-':\n",
    "        print(sub(a,b))\n",
    "    elif o=='*':\n",
    "        print(mul(a,b))\n",
    "    elif o=='/':\n",
    "        print(div(a,b))\n",
    "    else:\n",
    "        print(\"invalid character\")\n",
    "          \n",
    "    x=7input (\"enter y for more call=\")\n",
    "    if x =='y':\n",
    "        cal()\n",
    "    \n",
    "        \n",
    "cal()     \n"
   ]
  },
  {
   "cell_type": "code",
   "execution_count": 7,
   "id": "e3e0b975",
   "metadata": {},
   "outputs": [
    {
     "name": "stdout",
     "output_type": "stream",
     "text": [
      "hey you\n",
      "enter y term=y\n",
      "hey you\n",
      "enter y term=y\n",
      "hey you\n",
      "enter y term=g\n"
     ]
    }
   ],
   "source": [
    "def hello():\n",
    "    print(\"hey you\")\n",
    "    x=input(\"enter y term=\")\n",
    "    if x=='y':\n",
    "        hello()\n",
    "hello()"
   ]
  },
  {
   "cell_type": "code",
   "execution_count": 11,
   "id": "37b5fee3",
   "metadata": {},
   "outputs": [
    {
     "name": "stdout",
     "output_type": "stream",
     "text": [
      "enter any value7\n",
      "7 * 0 = 0\n",
      "7 * 4 = 28\n",
      "7 * 8 = 56\n",
      "enter y value78\n"
     ]
    }
   ],
   "source": [
    "def val():\n",
    "    n=int(input(\"enter any value\"))\n",
    "    for i in range(0,10,4):\n",
    "        print(n,\"*\",i,\"=\",n*i)\n",
    "        \n",
    "    x=input(\"enter y value\")\n",
    "    if x=='y':\n",
    "        val()\n",
    "val()"
   ]
  },
  {
   "cell_type": "code",
   "execution_count": 12,
   "id": "faa8779c",
   "metadata": {},
   "outputs": [
    {
     "name": "stdout",
     "output_type": "stream",
     "text": [
      "enter any name=hghg\n",
      "enter any price=8\n",
      "enter any quantity=9\n",
      "hghg 8 9 72\n",
      "\n",
      "72\n",
      "enter y=x\n"
     ]
    }
   ],
   "source": [
    "def billing():\n",
    "        s=''\n",
    "        grand_total=0\n",
    "        name=input(\"enter any name=\")\n",
    "        price=int(input(\"enter any price=\"))\n",
    "        quantity=int(input(\"enter any quantity=\"))\n",
    "        total= price * quantity\n",
    "        \n",
    "        info=name+\" \"+str(price)+\" \"+str(quantity)+\" \"+str(total)\n",
    "        s=s+info+\"\\n\"\n",
    "        grand_total=grand_total+total\n",
    "        print(s)\n",
    "        print(grand_total)\n",
    "    \n",
    "        x=input(\"enter y=\")\n",
    "        if x=='y':\n",
    "            billing()\n",
    "billing()\n",
    "        \n",
    "    \n",
    "    "
   ]
  },
  {
   "cell_type": "code",
   "execution_count": 7,
   "id": "85371fc4",
   "metadata": {},
   "outputs": [
    {
     "name": "stdout",
     "output_type": "stream",
     "text": [
      "enter l=8\n",
      "enter b=9\n",
      "enter h=0\n",
      "0\n",
      "enter Y b\n"
     ]
    }
   ],
   "source": [
    "def area(x,z,y):\n",
    "        ar=x*y*z  \n",
    "l=int(input(\"enter l=\"))\n",
    "b=int(input(\"enter b=\"))\n",
    "h=int(input(\"enter h=\"))\n",
    "ar=l*b*h\n",
    "print(ar)\n",
    "    \n",
    "X=input(\"enter Y \")\n",
    "if X=='Y':\n",
    "    area(l,b,h)\n",
    "            \n",
    "            \n",
    "            \n",
    "area(l,b,h)        \n",
    "        \n",
    "        "
   ]
  },
  {
   "cell_type": "code",
   "execution_count": null,
   "id": "6abbdae6",
   "metadata": {},
   "outputs": [],
   "source": []
  },
  {
   "cell_type": "code",
   "execution_count": null,
   "id": "79d3fb20",
   "metadata": {},
   "outputs": [],
   "source": []
  }
 ],
 "metadata": {
  "kernelspec": {
   "display_name": "Python 3",
   "language": "python",
   "name": "python3"
  },
  "language_info": {
   "codemirror_mode": {
    "name": "ipython",
    "version": 3
   },
   "file_extension": ".py",
   "mimetype": "text/x-python",
   "name": "python",
   "nbconvert_exporter": "python",
   "pygments_lexer": "ipython3",
   "version": "3.8.8"
  }
 },
 "nbformat": 4,
 "nbformat_minor": 5
}
