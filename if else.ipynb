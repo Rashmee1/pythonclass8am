{
 "cells": [
  {
   "cell_type": "code",
   "execution_count": null,
   "id": "540b5ffc",
   "metadata": {},
   "outputs": [
    {
     "name": "stdout",
     "output_type": "stream",
     "text": [
      "enter any value A=30\n"
     ]
    }
   ],
   "source": [
    "    A=int(input(\"enter any value A=\"))\n",
    "    B=int(input(\"enter any value B=\"))\n",
    "    C=int(input(\"enter any value C=\"))\n",
    "    D=int(input(\"enter any value D=\"))\n",
    "\n",
    "if A>=30:\n",
    "     print(\"passed\")\n",
    "    \n",
    "elif B>=40:\n",
    "     print(\"2nd divsion\")\n",
    "    \n",
    "elif C>=60:\n",
    "     print(\"1st division\")\n",
    "    \n",
    "elif D>=80:\n",
    "     print(\"Distinction\")\n",
    "else:\n",
    "     print(\"failed\")"
   ]
  },
  {
   "cell_type": "code",
   "execution_count": 9,
   "id": "ed0f8a5b",
   "metadata": {},
   "outputs": [
    {
     "name": "stdout",
     "output_type": "stream",
     "text": [
      "entera=sunday,saturday,monday,tuesday,wednesday,thursday,fridaysunday\n",
      "holiday\n"
     ]
    }
   ],
   "source": [
    "a=str(input(\"entera=sunday,saturday,monday,tuesday,wednesday,thursday,friday\"))\n",
    "if a=='sunday'or a=='saturday':\n",
    "    print(\"holiday\")\n",
    "elif a=='monday':\n",
    "    print(\"first day\")\n",
    "elif a=='tuesday ':\n",
    "    print(\"second day\")\n",
    "elif a=='wednesday':\n",
    "    print(\"third day\")\n",
    "elif a=='thursday':\n",
    "    print(\"fourth day\")\n",
    "elif a=='friday':\n",
    "    print(\"fifth day\")\n",
    "else:\n",
    "    print(\"visitday\")\n",
    "    "
   ]
  },
  {
   "cell_type": "code",
   "execution_count": null,
   "id": "49c8b2f6",
   "metadata": {},
   "outputs": [],
   "source": [
    "a=int(input(\"days=oneday,twoday\"))\n",
    "if(a=='oneday'):\n",
    "    print(\"hapy\")\n",
    "else:\n",
    "    print(\"sad\")\n",
    "\n",
    "  "
   ]
  },
  {
   "cell_type": "code",
   "execution_count": null,
   "id": "5d017550",
   "metadata": {},
   "outputs": [],
   "source": []
  },
  {
   "cell_type": "code",
   "execution_count": null,
   "id": "8e1b1729",
   "metadata": {},
   "outputs": [],
   "source": []
  }
 ],
 "metadata": {
  "kernelspec": {
   "display_name": "Python 3",
   "language": "python",
   "name": "python3"
  },
  "language_info": {
   "codemirror_mode": {
    "name": "ipython",
    "version": 3
   },
   "file_extension": ".py",
   "mimetype": "text/x-python",
   "name": "python",
   "nbconvert_exporter": "python",
   "pygments_lexer": "ipython3",
   "version": "3.8.8"
  }
 },
 "nbformat": 4,
 "nbformat_minor": 5
}
