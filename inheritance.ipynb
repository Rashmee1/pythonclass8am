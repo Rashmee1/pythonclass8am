{
 "cells": [
  {
   "cell_type": "code",
   "execution_count": 4,
   "id": "aad75715",
   "metadata": {},
   "outputs": [
    {
     "name": "stdout",
     "output_type": "stream",
     "text": [
      "enter any name=tara\n",
      "enter any age=34\n",
      "enter any add=ktm\n",
      "hello i am tara and my age is 34 and from ktm\n"
     ]
    }
   ],
   "source": [
    "class profile:\n",
    "    def __init__(self):\n",
    "        self.name=input(\"enter any name=\")\n",
    "        self.age=int(input(\"enter any age=\"))\n",
    "        self.add=input(\"enter any add=\")\n",
    "class ID(profile):\n",
    "    def information(self):\n",
    "        print(f\"hello i am {self.name} and my age is {self.age} and from {self.add}\")\n",
    "obj=ID()\n",
    "obj.information()"
   ]
  },
  {
   "cell_type": "code",
   "execution_count": 2,
   "id": "c425fb1b",
   "metadata": {},
   "outputs": [
    {
     "name": "stdout",
     "output_type": "stream",
     "text": [
      "hello i am ram and my age is 45 and from ktm\n"
     ]
    },
    {
     "data": {
      "text/plain": [
       "'ram'"
      ]
     },
     "execution_count": 2,
     "metadata": {},
     "output_type": "execute_result"
    }
   ],
   "source": [
    "class profile:\n",
    "    def __init__(self,name, age, add):\n",
    "        self.name=name\n",
    "        self.age=age\n",
    "        self.add=add\n",
    "    def profile(self):\n",
    "        return self.name\n",
    "\n",
    "class ID(profile):\n",
    "    def information(self):\n",
    "        print(f\"hello i am {self.name} and my age is {self.age} and from {self.add}\")\n",
    "obj=ID(\"ram\",45,\"ktm\")\n",
    "obj.information()\n",
    "obj.profile()\n"
   ]
  },
  {
   "cell_type": "code",
   "execution_count": 2,
   "id": "0abe2ce8",
   "metadata": {},
   "outputs": [
    {
     "name": "stdout",
     "output_type": "stream",
     "text": [
      "None\n",
      "hello i am ram and my age is 45 and from ktm\n"
     ]
    },
    {
     "data": {
      "text/plain": [
       "'ram'"
      ]
     },
     "execution_count": 2,
     "metadata": {},
     "output_type": "execute_result"
    }
   ],
   "source": [
    "class profile:\n",
    "    def __init__(self, age, add):\n",
    "        self.age=age\n",
    "        self.add=add\n",
    "    def profile(self):\n",
    "        return self.name\n",
    "class ID(profile):\n",
    "    def __init__(self,name,age,add):\n",
    "        self.name=name\n",
    "        print(profile.__init__(self,age,add))\n",
    "    def information(self):\n",
    "        print(f\"hello i am {self.name} and my age is {self.age} and from {self.add}\")\n",
    "obj=ID(\"ram\",45,\"ktm\")\n",
    "obj.information()\n",
    "obj.profile()"
   ]
  },
  {
   "cell_type": "code",
   "execution_count": 4,
   "id": "aec62901",
   "metadata": {},
   "outputs": [
    {
     "name": "stdout",
     "output_type": "stream",
     "text": [
      "hello i am ram and my age is 45 and from ktm\n"
     ]
    }
   ],
   "source": [
    "class address:\n",
    "    def __init__(self,add):\n",
    "         self.add=add\n",
    "class profile(address):\n",
    "    def __init__(self,age,add):\n",
    "        self.age=age\n",
    "        address.__init__(self,add)\n",
    "class Id(profile):\n",
    "    def __init__(self,name,age,add):\n",
    "        self.name=name\n",
    "        profile.__init__(self,age,add)\n",
    "    def information(self):\n",
    "        print(f\"hello i am {self.name} and my age is {self.age} and from {self.add}\")\n",
    "obj=Id(\"ram\",45,\"ktm\")\n",
    "obj.information()\n",
    "\n",
    "        \n",
    "    \n",
    "    "
   ]
  },
  {
   "cell_type": "code",
   "execution_count": 3,
   "id": "8615965a",
   "metadata": {},
   "outputs": [
    {
     "name": "stdout",
     "output_type": "stream",
     "text": [
      "enter name=ram\n",
      "enter age=67\n",
      "enter add=ktm\n",
      "hello i am ram and my age is 67 and from ktm\n"
     ]
    }
   ],
   "source": [
    "class address:\n",
    "    def __init__(self):\n",
    "        self.add=input(\"enter add=\")\n",
    "class profile:\n",
    "     def __init__(self):\n",
    "        self.age=int(input(\"enter age=\"))\n",
    "        \n",
    "class Id(profile,address):\n",
    "    def __init__(self):\n",
    "        self.name=input(\"enter name=\")\n",
    "        profile.__init__(self)\n",
    "        address.__init__(self)\n",
    "    def information(self):\n",
    "        print(f\"hello i am {self.name} and my age is {self.age} and from {self.add}\")\n",
    "obj=Id()\n",
    "obj.information()"
   ]
  },
  {
   "cell_type": "code",
   "execution_count": 5,
   "id": "25266c3b",
   "metadata": {},
   "outputs": [
    {
     "name": "stdout",
     "output_type": "stream",
     "text": [
      "Enter name = ram\n",
      "Enter age = 56\n",
      "Enter add = ktm\n",
      "Hello I am ram I am from ktm I am 56\n",
      "ktm\n"
     ]
    }
   ],
   "source": [
    "class Address:\n",
    "    def __init__(self):\n",
    "        self.add = input(\"Enter add = \")\n",
    "    def add(self):\n",
    "        return self.add\n",
    "\n",
    "class Profile:\n",
    "    def __init__(self):\n",
    "        self.age = int(input(\"Enter age = \"))\n",
    "       \n",
    "    \n",
    "class Id(Address,Profile):\n",
    "    def __init__(self):\n",
    "        self.name = input(\"Enter name = \")\n",
    "        Profile.__init__(self)\n",
    "        Address.__init__(self)\n",
    "        \n",
    "    def information(self):\n",
    "        print(f\"Hello I am {self.name} I am from {self.add} I am {self.age}\")\n",
    "        print(Address.add(self))\n",
    "        \n",
    "obj = Id()\n",
    "obj.information()"
   ]
  },
  {
   "cell_type": "code",
   "execution_count": 6,
   "id": "7062157c",
   "metadata": {},
   "outputs": [
    {
     "name": "stdout",
     "output_type": "stream",
     "text": [
      "Enter name = ram\n",
      "Enter age = 67\n",
      "Enter add = ktm\n",
      "Hello I am ram I am from ktm I am 67\n",
      "ktm\n"
     ]
    }
   ],
   "source": [
    "class Address:\n",
    "    def __init__(self):\n",
    "        self.add = input(\"Enter add = \")\n",
    "    def add(self):\n",
    "        return self.add\n",
    "\n",
    "class Profile:\n",
    "    def __init__(self):\n",
    "        self.age = int(input(\"Enter age = \"))\n",
    "       \n",
    "    \n",
    "class Id(Address,Profile):\n",
    "    def __init__(self):\n",
    "        self.name = input(\"Enter name = \")\n",
    "        Profile.__init__(self)\n",
    "        Address.__init__(self)\n",
    "        \n",
    "    def information(self):\n",
    "        print(f\"Hello I am {self.name} I am from {self.add} I am {self.age}\")\n",
    "        print(super().add())\n",
    "        \n",
    "obj = Id()\n",
    "obj.information()"
   ]
  },
  {
   "cell_type": "code",
   "execution_count": 2,
   "id": "383a73ff",
   "metadata": {},
   "outputs": [
    {
     "name": "stdout",
     "output_type": "stream",
     "text": [
      "Enter name = rsa\n",
      "Enter age = 7\n",
      "Enter add = hj\n",
      "Hello I am rsa I am from hj I am 7\n",
      "hj\n"
     ]
    }
   ],
   "source": [
    "class Address:\n",
    "    def __init__(self):\n",
    "        self.add = input(\"Enter add = \")\n",
    "    def add(self):\n",
    "        return self.add\n",
    "\n",
    "class Profile:\n",
    "    def __init__(self):\n",
    "        self.age = int(input(\"Enter age = \"))\n",
    "       \n",
    "    \n",
    "class Id(Address,Profile):\n",
    "    def __init__(self):\n",
    "        self.name = input(\"Enter name = \")\n",
    "        Profile.__init__(self)\n",
    "        Address.__init__(self)\n",
    "        \n",
    "    def information(self):\n",
    "        print(f\"Hello I am {self.name} I am from {self.add} I am {self.age}\")\n",
    "        print(Address.add(self))\n",
    "        \n",
    "obj = Id()\n",
    "obj.information()"
   ]
  },
  {
   "cell_type": "code",
   "execution_count": 3,
   "id": "2d5abd57",
   "metadata": {},
   "outputs": [
    {
     "name": "stdout",
     "output_type": "stream",
     "text": [
      "Enter name = rita\n",
      "Enter age = 67\n",
      "Enter add = tyu\n",
      "Hello I am rita I am from tyu I am 67\n",
      "tyu\n"
     ]
    }
   ],
   "source": [
    "class Address:\n",
    "    def __init__(self,add):\n",
    "        self.add = input(\"Enter add = \")\n",
    "    def add(self):\n",
    "        return self.add\n",
    "\n",
    "class Profile:\n",
    "    def __init__(self,age):\n",
    "        self.age = int(input(\"Enter age = \"))\n",
    "       \n",
    "    \n",
    "class Id(Address,Profile):\n",
    "    def __init__(self,name,age,add):\n",
    "        self.name = input(\"Enter name = \")\n",
    "        Profile.__init__(self,age)\n",
    "        Address.__init__(self,add)\n",
    "        \n",
    "    def information(self):\n",
    "        print(f\"Hello I am {self.name} I am from {self.add} I am {self.age}\")\n",
    "        print(super().add())\n",
    "        \n",
    "obj = Id(\"ram\",45,\"ktm\")\n",
    "obj.information()"
   ]
  },
  {
   "cell_type": "code",
   "execution_count": 4,
   "id": "fad543d1",
   "metadata": {},
   "outputs": [
    {
     "name": "stdout",
     "output_type": "stream",
     "text": [
      "Ram 30\n"
     ]
    }
   ],
   "source": [
    "class Info:\n",
    "    def __init__(self,name,age):\n",
    "        self.name=name\n",
    "        self.age = age\n",
    "    def info(self):\n",
    "        print(self.name,self.age)\n",
    "        \n",
    "    @staticmethod\n",
    "    def private():\n",
    "        name = \"Shyam\"\n",
    "        age = 34\n",
    "        print(name,age)\n",
    "        \n",
    "obj = Info(\"Ram\",30)\n",
    "obj.info()\n"
   ]
  },
  {
   "cell_type": "code",
   "execution_count": null,
   "id": "65642231",
   "metadata": {},
   "outputs": [],
   "source": []
  },
  {
   "cell_type": "code",
   "execution_count": 12,
   "id": "5a50f2bd",
   "metadata": {},
   "outputs": [
    {
     "data": {
      "text/plain": [
       "'Ram'"
      ]
     },
     "execution_count": 12,
     "metadata": {},
     "output_type": "execute_result"
    }
   ],
   "source": [
    "# Private members\n",
    "class Info:\n",
    "    def __init__(self,name,age):\n",
    "        self.__name = name\n",
    "        self.__age = age\n",
    "\n",
    "obj = Info(\"Ram\",34)\n",
    "obj._Info__name"
   ]
  },
  {
   "cell_type": "code",
   "execution_count": null,
   "id": "0728a549",
   "metadata": {},
   "outputs": [],
   "source": [
    "class Address:\n",
    "    def __init__(self):\n",
    "        self._add = input(\"Enter add = \")\n",
    "    def add(self):\n",
    "        return self._profileadd\n",
    "\n",
    "class Profile:\n",
    "    def __init__(self):\n",
    "        self.age = int(input(\"Enter age = \"))\n",
    "       \n",
    "    \n",
    "class Id(Address,Profile):\n",
    "    def __init__(self):\n",
    "        self.name = input(\"Enter name = \")\n",
    "        Profile.__init__(self)\n",
    "        Address.__init__(self)\n",
    "        \n",
    "    def information(self):\n",
    "        print(f\"Hello I am {self.name} I am from {self.add} I am {self.age}\")\n",
    "        print(Address.add(self))\n",
    "        \n",
    "obj = Id()\n",
    "obj.information()"
   ]
  },
  {
   "cell_type": "code",
   "execution_count": 14,
   "id": "4cdd2d0d",
   "metadata": {},
   "outputs": [
    {
     "data": {
      "text/plain": [
       "'hellow world'"
      ]
     },
     "execution_count": 14,
     "metadata": {},
     "output_type": "execute_result"
    }
   ],
   "source": [
    "def strings(function):\n",
    "    def wrapper():\n",
    "        fun = function() #decorator\n",
    "        x = fun.lower()\n",
    "        return x\n",
    "    return wrapper\n",
    "\n",
    "@strings\n",
    "def info():\n",
    "    return 'Hellow World'\n",
    "\n",
    "info()\n"
   ]
  },
  {
   "cell_type": "code",
   "execution_count": null,
   "id": "8daf13c5",
   "metadata": {},
   "outputs": [],
   "source": []
  }
 ],
 "metadata": {
  "kernelspec": {
   "display_name": "Python 3",
   "language": "python",
   "name": "python3"
  },
  "language_info": {
   "codemirror_mode": {
    "name": "ipython",
    "version": 3
   },
   "file_extension": ".py",
   "mimetype": "text/x-python",
   "name": "python",
   "nbconvert_exporter": "python",
   "pygments_lexer": "ipython3",
   "version": "3.8.8"
  }
 },
 "nbformat": 4,
 "nbformat_minor": 5
}
