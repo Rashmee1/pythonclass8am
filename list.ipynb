{
 "cells": [
  {
   "cell_type": "code",
   "execution_count": 2,
   "id": "af9281d9",
   "metadata": {},
   "outputs": [
    {
     "name": "stdout",
     "output_type": "stream",
     "text": [
      "apple\n"
     ]
    }
   ],
   "source": [
    "a=[\"apple\",\"ball\",\"cat\"]\n",
    "print(a[0])"
   ]
  },
  {
   "cell_type": "code",
   "execution_count": 2,
   "id": "ebbd25a4",
   "metadata": {},
   "outputs": [
    {
     "data": {
      "text/plain": [
       "['apple', 'sita', 'ball']"
      ]
     },
     "execution_count": 2,
     "metadata": {},
     "output_type": "execute_result"
    }
   ],
   "source": [
    "a=[\"apple\",\"ball\"]\n",
    "a.insert(1,\"sita\")\n",
    "a\n"
   ]
  },
  {
   "cell_type": "code",
   "execution_count": 4,
   "id": "4758ab9e",
   "metadata": {},
   "outputs": [
    {
     "data": {
      "text/plain": [
       "['apple', 'ball', 'sita']"
      ]
     },
     "execution_count": 4,
     "metadata": {},
     "output_type": "execute_result"
    }
   ],
   "source": [
    "a=[\"apple\",\"ball\"]\n",
    "a.append(\"sita\")\n",
    "a"
   ]
  },
  {
   "cell_type": "code",
   "execution_count": 3,
   "id": "6b9e72ac",
   "metadata": {},
   "outputs": [],
   "source": [
    "a=[\"apple\",\"ball\"]\n",
    "b=[\"taray\",\"sita\"]\n",
    "c=a.extend(\"/n\")\n",
    "c"
   ]
  },
  {
   "cell_type": "code",
   "execution_count": 2,
   "id": "6f5d4206",
   "metadata": {},
   "outputs": [
    {
     "name": "stdout",
     "output_type": "stream",
     "text": [
      "enter n=2\n",
      "enter name=u\n",
      "enter price=9\n",
      "enter quantity=6\n",
      "enter name=hgfh\n",
      "enter price=7\n",
      "enter quantity=4\n",
      "[['u', 9, 6, 54], ['hgfh', 7, 4, 28]]\n",
      "enter choice:1\n",
      "enter update value for price=6789\n",
      "[['u', 6789, 6, 40734], ['hgfh', 6789, 4, 27156]]\n",
      "enter y =y\n",
      "enter n=0\n",
      "[['u', 6789, 6, 40734], ['hgfh', 6789, 4, 27156]]\n",
      "enter choice:3\n",
      "enter y =y\n",
      "enter n=0\n",
      "[['u', 6789, 6, 40734], ['hgfh', 6789, 4, 27156]]\n",
      "enter choice:3\n",
      "enter y =i\n"
     ]
    }
   ],
   "source": [
    "#updating value \n",
    "a=[] \n",
    "def update():\n",
    "    n=int(input(\"enter n=\"))\n",
    "    for i in range (n):\n",
    "        name=input(\"enter name=\")\n",
    "        price=int(input(\"enter price=\"))\n",
    "        quantity=int(input(\"enter quantity=\"))\n",
    "        total=price *quantity\n",
    "        x=[name,price,quantity,total]\n",
    "        a.append(x)\n",
    "    print(a)\n",
    "\n",
    "    selection=int(input(\"enter choice:\"))\n",
    "    if selection==1:\n",
    "                        k=int(input(\"enter update value for price=\"))\n",
    "                        \n",
    "                        for i in range (len(a)):     \n",
    "                            a[i][1]=k\n",
    "                            a[i][3]=a[i][1]*a[i][2]\n",
    "                        print(a)\n",
    "                            \n",
    "                      \n",
    "                             \n",
    "                               \n",
    "    elif selection==2:\n",
    "                        l=int(input(\"enter the update value for quantity=\"))\n",
    "                    \n",
    "                        for i in range(len(a)):  \n",
    "                            a[i][2]=l\n",
    "                            a[i][3]=a[i][1]*a[i][2]\n",
    "                                \n",
    "                        print(a)\n",
    "                            \n",
    "    elif selection==3:\n",
    "                            quit()\n",
    "           \n",
    "    else:\n",
    "                             print(\"enter exit\") \n",
    "    x=input(\"enter y =\")\n",
    "    if x=='y':\n",
    "                             update()\n",
    "            \n",
    "        \n",
    "                \n",
    "update()   "
   ]
  },
  {
   "cell_type": "markdown",
   "id": "7aad034c",
   "metadata": {},
   "source": [
    "a=[['hari',200,3,600]]\n",
    "b=print(type(a))\n",
    "print(b)"
   ]
  },
  {
   "cell_type": "code",
   "execution_count": 2,
   "id": "3ea704b4",
   "metadata": {},
   "outputs": [
    {
     "name": "stdout",
     "output_type": "stream",
     "text": [
      "eagle\n"
     ]
    }
   ],
   "source": [
    "a=[\"apple\",\"ball\",\"cat\",\"elephant\",\"eagle\"]\n",
    "print(a[4])"
   ]
  },
  {
   "cell_type": "code",
   "execution_count": 5,
   "id": "7a802870",
   "metadata": {},
   "outputs": [
    {
     "name": "stdout",
     "output_type": "stream",
     "text": [
      "['apple', 'ball', 'cat', 'elephant']\n"
     ]
    }
   ],
   "source": [
    "a=[\"apple\",\"ball\",\"cat\",\"elephant\",\"eagle\"]\n",
    "print(a[0:4])"
   ]
  },
  {
   "cell_type": "code",
   "execution_count": 6,
   "id": "a5166b32",
   "metadata": {},
   "outputs": [
    {
     "name": "stdout",
     "output_type": "stream",
     "text": [
      "['apple', 'ball', 'cat', 'elephant', 'eagle', 'ear', 'nose', 1, 2]\n"
     ]
    }
   ],
   "source": [
    "a=[\"apple\",\"ball\",\"cat\",\"elephant\",\"eagle\"]\n",
    "b=[\"ear\",\"nose\",1,2]\n",
    "c=a+b\n",
    "print(c)"
   ]
  },
  {
   "cell_type": "code",
   "execution_count": 2,
   "id": "1aebd624",
   "metadata": {},
   "outputs": [
    {
     "name": "stdout",
     "output_type": "stream",
     "text": [
      "['apple', 'ball', 'cat', 'elephant', 'eagle', 'apple', 'ball', 'cat', 'elephant', 'eagle']\n"
     ]
    }
   ],
   "source": [
    "a=[\"apple\",\"ball\",\"cat\",\"elephant\",\"eagle\"]\n",
    "\n",
    "c=a*2\n",
    "print(c)"
   ]
  },
  {
   "cell_type": "code",
   "execution_count": 7,
   "id": "3f69d66c",
   "metadata": {},
   "outputs": [
    {
     "name": "stdout",
     "output_type": "stream",
     "text": [
      "['apple', 'banana', 'cat', 'elephant', 'eagle']\n"
     ]
    }
   ],
   "source": [
    "a=[\"apple\",\"ball\",\"cat\",\"elephant\",\"eagle\"]\n",
    "a[1]=\"banana\"\n",
    "print(a)"
   ]
  },
  {
   "cell_type": "code",
   "execution_count": null,
   "id": "ceb8d7e1",
   "metadata": {},
   "outputs": [],
   "source": [
    "a=[]\n",
    "n=int(input(\"enter n=\"))\n",
    "for i in range (n):\n",
    "    name=input(\"enter name=\")\n",
    "    address=input(\"enter address=\")\n",
    "    number=int(input(\"enter no=\"))\n",
    "    x=a+[name,address,number]\n",
    "    \n",
    "    print(x)\n",
    "    \n",
    "    "
   ]
  },
  {
   "cell_type": "code",
   "execution_count": 2,
   "id": "4b86caab",
   "metadata": {},
   "outputs": [
    {
     "name": "stdout",
     "output_type": "stream",
     "text": [
      "enter n=3\n",
      "enter name=dhh\n",
      "enter name=chc\n",
      "enter name=cbc\n",
      "['dhh', 'chc', 'cbc']\n"
     ]
    }
   ],
   "source": [
    "a=list()\n",
    "n=int(input(\"enter n=\"))\n",
    "for i in range (n):\n",
    "    name=input(\"enter name=\")\n",
    "    a=a+[name]\n",
    "    \n",
    "print(a)\n",
    "\n"
   ]
  },
  {
   "cell_type": "code",
   "execution_count": 9,
   "id": "444724e2",
   "metadata": {},
   "outputs": [
    {
     "name": "stdout",
     "output_type": "stream",
     "text": [
      "enter n=2\n",
      "enter x=88\n",
      "enter x=99\n",
      "[88, 99]\n",
      "the value of sum is= 187\n",
      "the max  = 99\n",
      "the min = 88\n",
      "the average= 93.5\n"
     ]
    }
   ],
   "source": [
    "a=list()\n",
    "n=int(input(\"enter n=\"))\n",
    "for i in range (n):\n",
    "    x=int(input(\"enter x=\"))\n",
    "    a=a+[x]\n",
    "print(a)\n",
    "print(\"the value of sum is=\",sum(a))\n",
    "print(\"the max  =\",max(a))\n",
    "print(\"the min =\",min(a))\n",
    "print(\"the average=\",sum(a)/n)\n",
    "a.sort()"
   ]
  },
  {
   "cell_type": "code",
   "execution_count": 10,
   "id": "a8c09edd",
   "metadata": {},
   "outputs": [
    {
     "data": {
      "text/plain": [
       "['chc', 'cbc']"
      ]
     },
     "execution_count": 10,
     "metadata": {},
     "output_type": "execute_result"
    }
   ],
   "source": [
    "a=['dhh', 'chc', 'cbc']\n",
    "del a[0]\n",
    "a\n"
   ]
  },
  {
   "cell_type": "code",
   "execution_count": 23,
   "id": "09cad8f0",
   "metadata": {},
   "outputs": [
    {
     "name": "stdout",
     "output_type": "stream",
     "text": [
      "Enter name = Hari\n",
      "['Ram Prasad', 'Shyam', 'Sita', 'Gita', 'Shyam']\n"
     ]
    }
   ],
   "source": [
    "a = ['Ram Prasad', 'Shyam', 'Hari', 'Sita', 'Gita','Shyam']\n",
    "name = input(\"Enter name = \")\n",
    "for i in a:\n",
    "    if i == name:\n",
    "        a.remove('Hari')\n",
    "print(a)"
   ]
  },
  {
   "cell_type": "code",
   "execution_count": 7,
   "id": "be069965",
   "metadata": {},
   "outputs": [
    {
     "name": "stdout",
     "output_type": "stream",
     "text": [
      "enter any value r=3\n",
      "enter any value c=3\n",
      "enter any value y=6\n",
      "enter any value y=6\n",
      "enter any value y=6\n",
      "enter any value y=6\n",
      "enter any value y=6\n",
      "enter any value y=6\n",
      "enter any value y=6\n",
      "enter any value y=6\n",
      "enter any value y=6\n",
      "[[6, 6, 6], [6, 6, 6], [6, 6, 6]]\n"
     ]
    }
   ],
   "source": [
    "m=[]\n",
    "r=int(input(\"enter any value r=\"))\n",
    "c=int(input(\"enter any value c=\"))\n",
    "for i in range(r):\n",
    "        x=[]\n",
    "        for j  in range(c):\n",
    "            y=int(input(\"enter any value y=\"))\n",
    "            x.append(y)\n",
    "       \n",
    "        m.append(x)\n",
    "print(m)\n",
    "    "
   ]
  },
  {
   "cell_type": "code",
   "execution_count": null,
   "id": "7d46e894",
   "metadata": {},
   "outputs": [],
   "source": [
    "m = []\n",
    "r = int(input(\"Enter r = \"))\n",
    "c = int(input(\"Enter c = \"))\n",
    "for i in range(r):\n",
    "    x=[]\n",
    "    for j in range(c):\n",
    "        y=int(input(\"enter y=\"))\n",
    "        x.append(y)\n",
    "    "
   ]
  },
  {
   "cell_type": "code",
   "execution_count": null,
   "id": "7f673894",
   "metadata": {},
   "outputs": [
    {
     "name": "stdout",
     "output_type": "stream",
     "text": [
      "80"
     ]
    }
   ],
   "source": [
    "import random\n",
    "for i in range(100):\n",
    "    \n",
    "    \n",
    "    num1=random.randint(1,100)\n",
    "    print(num1,end=\"\")\n",
    "    userschoice=int(input(\"enter number of users choice=\"))\n",
    "    \n",
    "    if num1 is userschoice:\n",
    "            print(\"you win\")\n",
    "            break\n",
    "    else:\n",
    "            print(\"you lose\")\n",
    "    \n",
    "    "
   ]
  },
  {
   "cell_type": "code",
   "execution_count": 3,
   "id": "17dc9cfa",
   "metadata": {},
   "outputs": [
    {
     "ename": "IndentationError",
     "evalue": "unindent does not match any outer indentation level (<tokenize>, line 10)",
     "output_type": "error",
     "traceback": [
      "\u001b[1;36m  File \u001b[1;32m\"<tokenize>\"\u001b[1;36m, line \u001b[1;32m10\u001b[0m\n\u001b[1;33m    print(a)\u001b[0m\n\u001b[1;37m    ^\u001b[0m\n\u001b[1;31mIndentationError\u001b[0m\u001b[1;31m:\u001b[0m unindent does not match any outer indentation level\n"
     ]
    }
   ],
   "source": [
    "a=[]\n",
    "n=int(input(\"enter n=\"))\n",
    "for i in range (n):\n",
    "        name=input(\"enter name=\")\n",
    "        price=int(input(\"enter price=\"))\n",
    "        quantity=int(input(\"enter quantity=\"))\n",
    "        total=price *quantity\n",
    "        x=[name,price,quantity,total]\n",
    "        a.append(x)\n",
    "    print(a)\n",
    "    select=int(input(\"enter choice:\"))\n",
    "def edit():\n",
    "    if select==1:\n",
    "        l=int(input(\"enter update value for price=\"))\n",
    "        i=0\n",
    "        while i<len(a):\n",
    "            a[i][1]=l\n",
    "            a[i][3]=a[i][1]*a[i][2]\n",
    "            print(a)\n",
    "            i=i+1\n",
    "            \n",
    "    elif select==2:\n",
    "        m=int(input(\"enter update for quantity=\"))\n",
    "        i=0\n",
    "        while i<len(a):\n",
    "            a[i][2]=m\n",
    "            a[i][3]=a[i][1]*a[i][2]\n",
    "            print(a)\n",
    "            i=i+1\n",
    "        \n",
    "    else:\n",
    "        quit()\n",
    "    x=input(\"enter continue for y=\") \n",
    "    if x=='y':\n",
    "        edit()\n",
    "edit()\n",
    "        \n",
    " \n"
   ]
  },
  {
   "cell_type": "markdown",
   "id": "4d7b55bb",
   "metadata": {},
   "source": [
    "## \n"
   ]
  },
  {
   "cell_type": "code",
   "execution_count": null,
   "id": "e0967043",
   "metadata": {},
   "outputs": [],
   "source": []
  },
  {
   "cell_type": "code",
   "execution_count": null,
   "id": "249bc1d0",
   "metadata": {},
   "outputs": [],
   "source": []
  }
 ],
 "metadata": {
  "kernelspec": {
   "display_name": "Python 3",
   "language": "python",
   "name": "python3"
  },
  "language_info": {
   "codemirror_mode": {
    "name": "ipython",
    "version": 3
   },
   "file_extension": ".py",
   "mimetype": "text/x-python",
   "name": "python",
   "nbconvert_exporter": "python",
   "pygments_lexer": "ipython3",
   "version": "3.8.8"
  }
 },
 "nbformat": 4,
 "nbformat_minor": 5
}
