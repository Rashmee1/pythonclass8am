{
 "cells": [
  {
   "cell_type": "code",
   "execution_count": 1,
   "id": "517ac45d",
   "metadata": {},
   "outputs": [
    {
     "name": "stdout",
     "output_type": "stream",
     "text": [
      "0\n",
      "1\n",
      "2\n",
      "3\n",
      "4\n"
     ]
    }
   ],
   "source": [
    "for i in range(5):\n",
    "    print(i)\n",
    "\n"
   ]
  },
  {
   "cell_type": "code",
   "execution_count": 8,
   "id": "592ae1fc",
   "metadata": {},
   "outputs": [
    {
     "name": "stdout",
     "output_type": "stream",
     "text": [
      "0 Hello world\n",
      "1 Hello world\n",
      "2 Hello world\n",
      "3 Hello world\n",
      "4 Hello world\n",
      "5 Hello world\n",
      "6 Hello world\n",
      "7 Hello world\n",
      "8 Hello world\n",
      "9 Hello world\n"
     ]
    }
   ],
   "source": [
    "for i in range(10):\n",
    "    print(i,\"Hello world\")"
   ]
  },
  {
   "cell_type": "code",
   "execution_count": 13,
   "id": "0fb37c5f",
   "metadata": {},
   "outputs": [
    {
     "name": "stdout",
     "output_type": "stream",
     "text": [
      "1 rashmee\n",
      "2 rashmee\n",
      "3 rashmee\n",
      "4 rashmee\n"
     ]
    }
   ],
   "source": [
    "for i in range(1,5):\n",
    "    print(i,\"rashmee\")"
   ]
  },
  {
   "cell_type": "code",
   "execution_count": 14,
   "id": "1e9a6710",
   "metadata": {},
   "outputs": [
    {
     "name": "stdout",
     "output_type": "stream",
     "text": [
      "1 hello\n",
      "4 hello\n"
     ]
    }
   ],
   "source": [
    "for i in range(1,5,3): #i=1,i>5,i++\n",
    "    print(i,\"hello\")"
   ]
  },
  {
   "cell_type": "code",
   "execution_count": 4,
   "id": "b7478ea0",
   "metadata": {},
   "outputs": [
    {
     "name": "stdout",
     "output_type": "stream",
     "text": [
      "enter any value2\n",
      "0\n",
      "2\n",
      "4\n",
      "6\n",
      "8\n",
      "10\n",
      "12\n",
      "14\n",
      "16\n",
      "18\n"
     ]
    }
   ],
   "source": [
    "#5*1=5\n",
    "n=int(input(\"enter any value\"))\n",
    "for i in range(0,10):\n",
    "    print(n*i)"
   ]
  },
  {
   "cell_type": "code",
   "execution_count": 19,
   "id": "8d7fe8cd",
   "metadata": {},
   "outputs": [
    {
     "name": "stdout",
     "output_type": "stream",
     "text": [
      "enter any value3\n",
      "3 * 1 = 3\n",
      "3 * 2 = 6\n",
      "3 * 3 = 9\n",
      "3 * 4 = 12\n"
     ]
    }
   ],
   "source": [
    "n=int(input(\"enter any value\"))\n",
    "for i in range(1,5):\n",
    "    print(n,\"*\",i,\"=\",n*i)"
   ]
  },
  {
   "cell_type": "code",
   "execution_count": 29,
   "id": "90f616d2",
   "metadata": {},
   "outputs": [
    {
     "name": "stdout",
     "output_type": "stream",
     "text": [
      "enter n=5\n",
      "enter x=234\n",
      "enter x=345\n",
      "enter x=234\n",
      "enter x=5\n",
      "enter x=423\n",
      "1241\n"
     ]
    }
   ],
   "source": [
    "s=0\n",
    "n=int(input(\"enter n=\"))\n",
    "for i in range(n):\n",
    "    x=int(input(\"enter x=\"))\n",
    "    s=s+x\n",
    "print(s)"
   ]
  },
  {
   "cell_type": "code",
   "execution_count": 1,
   "id": "379bf9dd",
   "metadata": {},
   "outputs": [
    {
     "name": "stdout",
     "output_type": "stream",
     "text": [
      "enter any value n=5\n",
      "25\n"
     ]
    }
   ],
   "source": [
    "#fibonacci series\n",
    "s=0\n",
    "n=int(input(\"enter any value n=\"))\n",
    "for i in range(1,5):\n",
    "    s=s+n\n",
    "print(s)"
   ]
  },
  {
   "cell_type": "code",
   "execution_count": null,
   "id": "49671731",
   "metadata": {},
   "outputs": [
    {
     "name": "stdout",
     "output_type": "stream",
     "text": [
      "enter any value n=5\n",
      "enter x=5\n",
      "5\n",
      "enter x=5\n",
      "10\n",
      "enter x=5\n",
      "15\n"
     ]
    }
   ],
   "source": [
    "#wap to make program to illustrate given number n their average value of it..\n",
    "s=0\n",
    "n=int(input(\"enter any value n=\"))\n",
    "for i in range(n):\n",
    "    x=int(input(\"enter x=\"))\n",
    "    s=s+x\n",
    "    print(s)"
   ]
  },
  {
   "cell_type": "code",
   "execution_count": null,
   "id": "997a1535",
   "metadata": {},
   "outputs": [
    {
     "name": "stdout",
     "output_type": "stream",
     "text": [
      "enter any name n=rr\n",
      "enter name x=t\n",
      "t\n",
      "enter name x=hh\n",
      "thh\n"
     ]
    }
   ],
   "source": [
    "s=''\n",
    "n=input(\"enter any name n=\")\n",
    "for i in range(5):\n",
    "    x=input(\"enter name x=\")\n",
    "    s=s+x\n",
    "    print(s)\n",
    "    \n",
    "    \n",
    "    \n"
   ]
  },
  {
   "cell_type": "code",
   "execution_count": 6,
   "id": "c24394af",
   "metadata": {},
   "outputs": [
    {
     "name": "stdout",
     "output_type": "stream",
     "text": [
      "enter n=1\n",
      "enter any name=hvh\n",
      "enter any price=222222222\n",
      "enter any quantity=222222\n",
      "hvh 222222222 222222 49382666617284\n",
      "\n",
      "49382666617284\n"
     ]
    }
   ],
   "source": [
    "s=''\n",
    "grand_total=0\n",
    "n=int(input(\"enter n=\"))\n",
    "for i in range(n):\n",
    "        name=input(\"enter any name=\")\n",
    "        price=int(input(\"enter any price=\"))\n",
    "        quantity=int(input(\"enter any quantity=\"))\n",
    "        total= price * quantity\n",
    "        \n",
    "        info=name+\" \"+str(price)+\" \"+str(quantity)+\" \"+str(total)\n",
    "        s=s+info+\"\\n\"\n",
    "        grand_total=grand_total+total\n",
    "print(s)\n",
    "print(grand_total)\n",
    "    \n",
    "          \n",
    "          "
   ]
  },
  {
   "cell_type": "code",
   "execution_count": 7,
   "id": "ea9f367e",
   "metadata": {},
   "outputs": [
    {
     "name": "stdout",
     "output_type": "stream",
     "text": [
      "p\n",
      "y\n",
      "t\n",
      "h\n",
      "o\n",
      "n\n"
     ]
    }
   ],
   "source": [
    "a=\"python\"\n",
    "for i in a:\n",
    "    print(i)\n",
    "    "
   ]
  },
  {
   "cell_type": "code",
   "execution_count": 15,
   "id": "b58f6452",
   "metadata": {},
   "outputs": [
    {
     "name": "stdout",
     "output_type": "stream",
     "text": [
      "enter n=2\n",
      "enter name=rasu\n",
      "enter phone_no=789\n",
      "enter name=rt\n",
      "enter phone_no=789\n",
      "rasu 789\n",
      "rt 789\n",
      "\n"
     ]
    }
   ],
   "source": [
    "s=''\n",
    "n=int(input(\"enter n=\"))\n",
    "for i in range(n):\n",
    "    name= input(\"enter name=\")\n",
    "    phone_no=int(input(\"enter phone_no=\"))\n",
    "    info= name+\" \"+str(phone_no)\n",
    "    s= s+\"\"+info+\"\\n\"\n",
    "print(s)"
   ]
  },
  {
   "cell_type": "code",
   "execution_count": 2,
   "id": "2e63df8c",
   "metadata": {},
   "outputs": [
    {
     "name": "stdout",
     "output_type": "stream",
     "text": [
      "enter n= 6\n",
      "720\n"
     ]
    }
   ],
   "source": [
    "#factorial\n",
    "\n",
    "fac=1\n",
    "n=int(input(\"enter n= \"))\n",
    "for i in range(1,n+1):\n",
    "    fac=fac*i\n",
    "    \n",
    "print(fac)"
   ]
  },
  {
   "cell_type": "code",
   "execution_count": 15,
   "id": "b9f3c295",
   "metadata": {},
   "outputs": [
    {
     "name": "stdout",
     "output_type": "stream",
     "text": [
      "enter n=10\n",
      "0\n",
      "1\n",
      "2\n",
      "3\n",
      "4\n",
      "5\n",
      "6\n",
      "7\n",
      "8\n",
      "9\n",
      "10\n",
      "11\n",
      "12\n",
      "13\n",
      "14\n",
      "15\n",
      "16\n",
      "17\n",
      "18\n",
      "19\n",
      "20\n",
      "21\n",
      "22\n",
      "23\n",
      "24\n",
      "25\n",
      "26\n",
      "27\n",
      "28\n",
      "29\n",
      "30\n",
      "31\n",
      "32\n",
      "33\n",
      "34\n",
      "35\n",
      "36\n",
      "37\n",
      "38\n",
      "39\n",
      "40\n",
      "41\n",
      "42\n",
      "43\n",
      "44\n",
      "45\n",
      "46\n",
      "47\n",
      "48\n",
      "49\n",
      "50\n",
      "51\n",
      "52\n",
      "53\n",
      "54\n",
      "55\n",
      "56\n",
      "57\n",
      "58\n",
      "59\n",
      "60\n",
      "61\n",
      "62\n",
      "63\n",
      "64\n",
      "65\n",
      "66\n",
      "67\n",
      "68\n",
      "69\n",
      "70\n",
      "71\n",
      "72\n",
      "73\n",
      "74\n",
      "75\n",
      "76\n",
      "77\n",
      "78\n",
      "79\n",
      "80\n",
      "81\n",
      "82\n",
      "83\n",
      "84\n",
      "85\n",
      "86\n",
      "87\n",
      "88\n",
      "89\n",
      "90\n",
      "91\n",
      "92\n",
      "93\n",
      "94\n",
      "95\n",
      "96\n",
      "97\n",
      "98\n",
      "99\n",
      "100\n"
     ]
    }
   ],
   "source": [
    "\n",
    "n=int(input(\"enter n=\"))\n",
    "for i in range(0,101):\n",
    "    \n",
    "    \n",
    "    print(i)\n",
    "    "
   ]
  },
  {
   "cell_type": "code",
   "execution_count": 6,
   "id": "d0b14042",
   "metadata": {},
   "outputs": [
    {
     "name": "stdout",
     "output_type": "stream",
     "text": [
      "enter n=10\n",
      "1,1,2,3,5,8,13,21,34,55,89,"
     ]
    }
   ],
   "source": [
    "#fibonacci series using while loop\n",
    "#0,1,1,2,3,5,8\n",
    "n=int(input(\"enter n=\"))\n",
    "a=0\n",
    "b=1\n",
    "c=0\n",
    "i=0\n",
    "\n",
    "while(i<= n):\n",
    "    a=b\n",
    "    b=c\n",
    "    c=a+b\n",
    "    print(c,end=\",\")\n",
    "    i=i+1\n",
    "    \n"
   ]
  },
  {
   "cell_type": "markdown",
   "id": "37810954",
   "metadata": {},
   "source": [
    "##### "
   ]
  },
  {
   "cell_type": "markdown",
   "id": "1c745212",
   "metadata": {},
   "source": [
    "##### "
   ]
  }
 ],
 "metadata": {
  "kernelspec": {
   "display_name": "Python 3",
   "language": "python",
   "name": "python3"
  },
  "language_info": {
   "codemirror_mode": {
    "name": "ipython",
    "version": 3
   },
   "file_extension": ".py",
   "mimetype": "text/x-python",
   "name": "python",
   "nbconvert_exporter": "python",
   "pygments_lexer": "ipython3",
   "version": "3.8.8"
  }
 },
 "nbformat": 4,
 "nbformat_minor": 5
}
