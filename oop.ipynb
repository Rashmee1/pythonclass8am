{
 "cells": [
  {
   "cell_type": "code",
   "execution_count": 1,
   "id": "ee4bcaa5",
   "metadata": {},
   "outputs": [
    {
     "name": "stdout",
     "output_type": "stream",
     "text": [
      "Hello world\n"
     ]
    }
   ],
   "source": [
    "class Hello:\n",
    "    print(\"Hello world\")"
   ]
  },
  {
   "cell_type": "code",
   "execution_count": 2,
   "id": "2ebe467a",
   "metadata": {},
   "outputs": [
    {
     "name": "stdout",
     "output_type": "stream",
     "text": [
      "hey you\n"
     ]
    }
   ],
   "source": [
    "class hello: #class\n",
    "    print(\"hey you\")\n",
    "obj=hello()   #object"
   ]
  },
  {
   "cell_type": "code",
   "execution_count": 3,
   "id": "bbb35dfc",
   "metadata": {},
   "outputs": [
    {
     "name": "stdout",
     "output_type": "stream",
     "text": [
      "2100\n"
     ]
    }
   ],
   "source": [
    "class cal:\n",
    "    l=30\n",
    "    b=70\n",
    "    area=l*b\n",
    "    print(area)\n",
    "obj=cal()"
   ]
  },
  {
   "cell_type": "code",
   "execution_count": 3,
   "id": "f99e807a",
   "metadata": {},
   "outputs": [
    {
     "name": "stdout",
     "output_type": "stream",
     "text": [
      "2100\n"
     ]
    }
   ],
   "source": [
    "class cal:\n",
    "    def ar(self):\n",
    "        l=30\n",
    "        b=70\n",
    "        area=l*b\n",
    "        print(area)\n",
    "obj=cal()\n",
    "obj.ar()"
   ]
  },
  {
   "cell_type": "code",
   "execution_count": 4,
   "id": "3887f706",
   "metadata": {},
   "outputs": [
    {
     "name": "stdout",
     "output_type": "stream",
     "text": [
      "2100\n"
     ]
    }
   ],
   "source": [
    "class cal:\n",
    "    def ar(self,l,b):\n",
    "        area=l*b\n",
    "        print(area)\n",
    "l=30\n",
    "b=70\n",
    "obj=cal()\n",
    "obj.ar(l,b)"
   ]
  },
  {
   "cell_type": "code",
   "execution_count": 5,
   "id": "2109fa7c",
   "metadata": {},
   "outputs": [
    {
     "name": "stdout",
     "output_type": "stream",
     "text": [
      "1200\n",
      "96000\n"
     ]
    }
   ],
   "source": [
    "class cal:\n",
    "    def area(self,l,b):\n",
    "        a=l*b\n",
    "        print(a)\n",
    "    def volume(self,l,b,h):\n",
    "        v=l*b*h\n",
    "        print(v)\n",
    "l=20\n",
    "b=60\n",
    "h=80\n",
    "obj=cal()\n",
    "obj.area(l,b)\n",
    "obj.volume(l,b,h)"
   ]
  },
  {
   "cell_type": "code",
   "execution_count": 1,
   "id": "3e9b40af",
   "metadata": {},
   "outputs": [
    {
     "name": "stdout",
     "output_type": "stream",
     "text": [
      "2100\n"
     ]
    }
   ],
   "source": [
    "class cal:\n",
    "    def __init__(self,l,b):\n",
    "        self.l=l\n",
    "        self.b=b\n",
    "    def ar(self):\n",
    "        area=self.l*self.b\n",
    "        print(area)\n",
    "l=30\n",
    "b=70\n",
    "obj=cal(l,b)\n",
    "obj.ar()"
   ]
  },
  {
   "cell_type": "code",
   "execution_count": 3,
   "id": "d5d06aa6",
   "metadata": {},
   "outputs": [
    {
     "name": "stdout",
     "output_type": "stream",
     "text": [
      "2100\n",
      "16800\n"
     ]
    }
   ],
   "source": [
    "class cal:\n",
    "    def __init__(self,l,b,h):\n",
    "        self.l=l\n",
    "        self.b=b\n",
    "        self.h=h\n",
    "    def ar(self):\n",
    "        area=self.l*self.b\n",
    "        print(area)\n",
    "    def volume(self):\n",
    "        v=self.l*self.b*self.h\n",
    "        print(v)\n",
    "l=30\n",
    "b=70\n",
    "h=8\n",
    "obj=cal(l,b,h)\n",
    "obj.ar()\n",
    "obj.volume()\n"
   ]
  },
  {
   "cell_type": "code",
   "execution_count": 6,
   "id": "dd569edd",
   "metadata": {},
   "outputs": [
    {
     "name": "stdout",
     "output_type": "stream",
     "text": [
      "2100\n",
      "16800\n"
     ]
    }
   ],
   "source": [
    "class cal:\n",
    "    def __init__(self,l,b):\n",
    "        self.l=l\n",
    "        self.b=b\n",
    "    def ar(self):\n",
    "        area=self.l*self.b\n",
    "        print(area)\n",
    "    def volume(self,h):\n",
    "        v=self.l*self.b*h\n",
    "        print(v)\n",
    "l=30\n",
    "b=70\n",
    "h=8\n",
    "obj=cal(l,b)\n",
    "obj.ar()\n",
    "obj.volume(h)\n"
   ]
  },
  {
   "cell_type": "code",
   "execution_count": 2,
   "id": "73d2fcde",
   "metadata": {},
   "outputs": [
    {
     "ename": "NameError",
     "evalue": "name 'area' is not defined",
     "output_type": "error",
     "traceback": [
      "\u001b[1;31m---------------------------------------------------------------------------\u001b[0m",
      "\u001b[1;31mNameError\u001b[0m                                 Traceback (most recent call last)",
      "\u001b[1;32m<ipython-input-2-236d916251ff>\u001b[0m in \u001b[0;36m<module>\u001b[1;34m\u001b[0m\n\u001b[0;32m     17\u001b[0m \u001b[0mobj\u001b[0m\u001b[1;33m=\u001b[0m\u001b[0mcal\u001b[0m\u001b[1;33m(\u001b[0m\u001b[0ml\u001b[0m\u001b[1;33m,\u001b[0m\u001b[0mb\u001b[0m\u001b[1;33m)\u001b[0m\u001b[1;33m\u001b[0m\u001b[1;33m\u001b[0m\u001b[0m\n\u001b[0;32m     18\u001b[0m \u001b[0mobj\u001b[0m\u001b[1;33m.\u001b[0m\u001b[0marea\u001b[0m\u001b[1;33m(\u001b[0m\u001b[1;33m)\u001b[0m\u001b[1;33m\u001b[0m\u001b[1;33m\u001b[0m\u001b[0m\n\u001b[1;32m---> 19\u001b[1;33m \u001b[0mobj\u001b[0m\u001b[1;33m.\u001b[0m\u001b[0mvolume\u001b[0m\u001b[1;33m(\u001b[0m\u001b[0mh\u001b[0m\u001b[1;33m)\u001b[0m\u001b[1;33m\u001b[0m\u001b[1;33m\u001b[0m\u001b[0m\n\u001b[0m",
      "\u001b[1;32m<ipython-input-2-236d916251ff>\u001b[0m in \u001b[0;36mvolume\u001b[1;34m(self, h)\u001b[0m\n\u001b[0;32m      9\u001b[0m         \u001b[1;32mreturn\u001b[0m \u001b[0ma\u001b[0m\u001b[1;33m\u001b[0m\u001b[1;33m\u001b[0m\u001b[0m\n\u001b[0;32m     10\u001b[0m     \u001b[1;32mdef\u001b[0m \u001b[0mvolume\u001b[0m\u001b[1;33m(\u001b[0m\u001b[0mself\u001b[0m\u001b[1;33m,\u001b[0m\u001b[0mh\u001b[0m\u001b[1;33m)\u001b[0m\u001b[1;33m:\u001b[0m\u001b[1;33m\u001b[0m\u001b[1;33m\u001b[0m\u001b[0m\n\u001b[1;32m---> 11\u001b[1;33m         \u001b[0mar\u001b[0m\u001b[1;33m=\u001b[0m\u001b[0marea\u001b[0m\u001b[1;33m(\u001b[0m\u001b[0mself\u001b[0m\u001b[1;33m)\u001b[0m\u001b[1;33m\u001b[0m\u001b[1;33m\u001b[0m\u001b[0m\n\u001b[0m\u001b[0;32m     12\u001b[0m         \u001b[0mv\u001b[0m\u001b[1;33m=\u001b[0m\u001b[0marea\u001b[0m\u001b[1;33m(\u001b[0m\u001b[0mself\u001b[0m\u001b[1;33m)\u001b[0m\u001b[1;33m*\u001b[0m\u001b[0mh\u001b[0m\u001b[1;33m\u001b[0m\u001b[1;33m\u001b[0m\u001b[0m\n\u001b[0;32m     13\u001b[0m         \u001b[0mprint\u001b[0m\u001b[1;33m(\u001b[0m\u001b[0mv\u001b[0m\u001b[1;33m)\u001b[0m\u001b[1;33m\u001b[0m\u001b[1;33m\u001b[0m\u001b[0m\n",
      "\u001b[1;31mNameError\u001b[0m: name 'area' is not defined"
     ]
    }
   ],
   "source": [
    "class cal:\n",
    "    def __init__(self,l,b):\n",
    "        self.l=l\n",
    "        self.b=b\n",
    "\n",
    "    def area(self):\n",
    "\n",
    "        a=self.l*self.b\n",
    "        return a\n",
    "    def volume(self,h):\n",
    "        ar=area(self)\n",
    "        v=area(self)*h\n",
    "        print(v)\n",
    "l=30\n",
    "b=70\n",
    "h=8\n",
    "obj=cal(l,b)\n",
    "obj.area()\n",
    "obj.volume(h)\n"
   ]
  },
  {
   "cell_type": "code",
   "execution_count": 18,
   "id": "880c00bf",
   "metadata": {},
   "outputs": [
    {
     "name": "stdout",
     "output_type": "stream",
     "text": [
      "enter name=th\n",
      "enter age=5\n",
      "th\n",
      "th\n",
      "th\n",
      "<class '__main__.cal'>\n"
     ]
    }
   ],
   "source": [
    "class cal:\n",
    "    def __init__(self,name,age):\n",
    "        self.name=name\n",
    "        self.age=age\n",
    "\n",
    "    def __str__(self):\n",
    "        return self.name\n",
    "name=input(\"enter name=\")\n",
    "age=int(input(\"enter age=\"))\n",
    "obj=cal(name ,age)\n",
    "print(obj)\n",
    "print(obj.__str__())\n",
    "print(str(obj))\n",
    "print(type(obj))\n"
   ]
  },
  {
   "cell_type": "code",
   "execution_count": 16,
   "id": "9bc2d6e2",
   "metadata": {},
   "outputs": [
    {
     "name": "stdout",
     "output_type": "stream",
     "text": [
      "enter name=er\n",
      "enter age=4\n",
      "errita\n"
     ]
    }
   ],
   "source": [
    "class cal:\n",
    "    def __init__(self,name,age):\n",
    "        self.name=name\n",
    "        self.age=age\n",
    "\n",
    "    def __str__(self):\n",
    "        return self.name\n",
    "name=input(\"enter name=\")\n",
    "age=int(input(\"enter age=\"))\n",
    "object=cal(name ,age)\n",
    "print(str(object)+\"rita\")\n",
    "\n"
   ]
  },
  {
   "cell_type": "code",
   "execution_count": 1,
   "id": "36cbaeb2",
   "metadata": {},
   "outputs": [
    {
     "name": "stdout",
     "output_type": "stream",
     "text": [
      "Ram\n",
      "shyam\n"
     ]
    }
   ],
   "source": [
    "class cal:\n",
    "    def __init__(self,name,age):\n",
    "        self.name=name\n",
    "        self.age=age\n",
    "\n",
    "    def __str__(self):\n",
    "        return self.name\n",
    "obj1=cal(\"Ram\",23)\n",
    "obj2=cal(\"shyam\",67)\n",
    "print(obj1)\n",
    "print(obj2)"
   ]
  },
  {
   "cell_type": "code",
   "execution_count": 7,
   "id": "095862bd",
   "metadata": {},
   "outputs": [
    {
     "name": "stdout",
     "output_type": "stream",
     "text": [
      "1 5\n"
     ]
    }
   ],
   "source": [
    "#opeator overloading\n",
    "class point:\n",
    "    def __init__(self, x, y):\n",
    "        self.x= x\n",
    "        self.y= y\n",
    "    def __str__(self):\n",
    "        return  f\"{self.x} {self.y}\"\n",
    "    def __add__(self,other):\n",
    "        x =self.x+other.x\n",
    "        y = self.y+other.y\n",
    "        return point(x,y)\n",
    "p1=point(2,3)\n",
    "p2=point(-1,2)\n",
    "print(p1 + p2)"
   ]
  },
  {
   "cell_type": "code",
   "execution_count": 9,
   "id": "39a0ad6f",
   "metadata": {},
   "outputs": [
    {
     "name": "stdout",
     "output_type": "stream",
     "text": [
      "i am init method 1000\n",
      "i am init method 2000\n",
      "i am add method 3000\n",
      "i am init method 3000\n",
      "i am str method 3000\n",
      "3000 \n"
     ]
    }
   ],
   "source": [
    "#opeator overloading\n",
    "class point:\n",
    "    def __init__(self, x ):\n",
    "        self.x= x\n",
    "        print(\"i am init method\",x)\n",
    "    def __str__(self):\n",
    "        print(\"i am str method\",self.x)\n",
    "        return  f\"{self.x} \"\n",
    "    def __add__(self,other):\n",
    "        x =self.x+other.x\n",
    "        print(\"i am add method\",x)\n",
    "        return point(x)\n",
    "p1=point(1000)\n",
    "p2=point(2000)\n",
    "print(p1 + p2)"
   ]
  },
  {
   "cell_type": "code",
   "execution_count": 11,
   "id": "921bcd2a",
   "metadata": {},
   "outputs": [
    {
     "name": "stdout",
     "output_type": "stream",
     "text": [
      "i am init method 1000\n",
      "i am init method 2000\n",
      "i am init method 3000\n",
      "i am add method 3000\n",
      "i am init method 3000\n",
      "i am add method 6000\n",
      "i am init method 6000\n",
      "i am str method 6000\n",
      "6000 \n"
     ]
    }
   ],
   "source": [
    "#opeator overloading\n",
    "class point:\n",
    "    def __init__(self, x ):\n",
    "        self.x= x\n",
    "        print(\"i am init method\",x)\n",
    "    def __str__(self):\n",
    "        print(\"i am str method\",self.x)\n",
    "        return  f\"{self.x} \"\n",
    "    def __add__(self,other):\n",
    "        x =self.x+other.x\n",
    "        print(\"i am add method\",x)\n",
    "        return point(x)\n",
    "p1=point(1000)\n",
    "p2=point(2000)\n",
    "p3=point(3000)\n",
    "print(p1 + p2+p3)"
   ]
  },
  {
   "cell_type": "code",
   "execution_count": 1,
   "id": "9fac108f",
   "metadata": {},
   "outputs": [
    {
     "name": "stdout",
     "output_type": "stream",
     "text": [
      "parrot can fly\n",
      "penguin can fly\n"
     ]
    }
   ],
   "source": [
    "#polymorphism\n",
    "class parrot:\n",
    "    def fly(self):\n",
    "        print(\"parrot can fly\")\n",
    "    def swim(self):\n",
    "        print(\"parrot can't swim\")\n",
    "class penguin:\n",
    "    def fly(self):\n",
    "         print(\"penguin can fly\")\n",
    "    def swim(self):\n",
    "        print(\"penguin can't swim\")\n",
    "def flying_test(bird):\n",
    "    bird.fly()\n",
    "blu=parrot()\n",
    "peggy=penguin()\n",
    "flying_test(blu)\n",
    "flying_test(peggy)"
   ]
  },
  {
   "cell_type": "code",
   "execution_count": null,
   "id": "7ca19fa2",
   "metadata": {},
   "outputs": [],
   "source": []
  }
 ],
 "metadata": {
  "kernelspec": {
   "display_name": "Python 3",
   "language": "python",
   "name": "python3"
  },
  "language_info": {
   "codemirror_mode": {
    "name": "ipython",
    "version": 3
   },
   "file_extension": ".py",
   "mimetype": "text/x-python",
   "name": "python",
   "nbconvert_exporter": "python",
   "pygments_lexer": "ipython3",
   "version": "3.8.8"
  }
 },
 "nbformat": 4,
 "nbformat_minor": 5
}
