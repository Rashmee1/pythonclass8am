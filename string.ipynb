{
 "cells": [
  {
   "cell_type": "code",
   "execution_count": 2,
   "id": "fd698f20",
   "metadata": {},
   "outputs": [
    {
     "name": "stdout",
     "output_type": "stream",
     "text": [
      "enter n=1\n",
      "enter d=y\n",
      "enter b=7\n",
      "[[[...], 7]]\n"
     ]
    },
    {
     "ename": "IndexError",
     "evalue": "list index out of range",
     "output_type": "error",
     "traceback": [
      "\u001b[1;31m---------------------------------------------------------------------------\u001b[0m",
      "\u001b[1;31mIndexError\u001b[0m                                Traceback (most recent call last)",
      "\u001b[1;32m<ipython-input-2-a1dbded6fea0>\u001b[0m in \u001b[0;36m<module>\u001b[1;34m\u001b[0m\n\u001b[0;32m      8\u001b[0m     \u001b[0mprint\u001b[0m\u001b[1;33m(\u001b[0m\u001b[0ma\u001b[0m\u001b[1;33m)\u001b[0m\u001b[1;33m\u001b[0m\u001b[1;33m\u001b[0m\u001b[0m\n\u001b[0;32m      9\u001b[0m \u001b[1;33m\u001b[0m\u001b[0m\n\u001b[1;32m---> 10\u001b[1;33m \u001b[0mprint\u001b[0m\u001b[1;33m(\u001b[0m\u001b[0ma\u001b[0m\u001b[1;33m[\u001b[0m\u001b[1;36m0\u001b[0m\u001b[1;33m:\u001b[0m\u001b[1;33m]\u001b[0m\u001b[1;33m[\u001b[0m\u001b[1;36m1\u001b[0m\u001b[1;33m]\u001b[0m\u001b[1;33m)\u001b[0m\u001b[1;33m\u001b[0m\u001b[1;33m\u001b[0m\u001b[0m\n\u001b[0m",
      "\u001b[1;31mIndexError\u001b[0m: list index out of range"
     ]
    }
   ],
   "source": [
    "a=[]\n",
    "n=int(input(\"enter n=\"))\n",
    "for i in range (n):\n",
    "    d=input(\"enter d=\")\n",
    "    b=int(input(\"enter b=\"))\n",
    "    c=[a,b]\n",
    "    a.append(c)\n",
    "    print(a)\n",
    "    \n",
    "print(a[0:][1])\n"
   ]
  },
  {
   "cell_type": "code",
   "execution_count": 6,
   "id": "6d719922",
   "metadata": {},
   "outputs": [
    {
     "name": "stdout",
     "output_type": "stream",
     "text": [
      "10\n"
     ]
    }
   ],
   "source": [
    "a='hello dear'\n",
    "l=len(a)\n",
    "print(l)"
   ]
  },
  {
   "cell_type": "code",
   "execution_count": 2,
   "id": "d8c99221",
   "metadata": {},
   "outputs": [
    {
     "name": "stdout",
     "output_type": "stream",
     "text": [
      "n\n",
      "i am a student\n",
      "ia  tdn\n"
     ]
    }
   ],
   "source": [
    "a='i am a student'\n",
    "print(a[-2])\n",
    "print(a[0:]) #slicing\n",
    "print(a[0:15:2])\n"
   ]
  },
  {
   "cell_type": "code",
   "execution_count": 7,
   "id": "8ba839b2",
   "metadata": {},
   "outputs": [
    {
     "name": "stdout",
     "output_type": "stream",
     "text": [
      "<class 'str'>\n"
     ]
    }
   ],
   "source": [
    "a='hello python'\n",
    "print(type(a))"
   ]
  },
  {
   "cell_type": "code",
   "execution_count": 4,
   "id": "8c787ef7",
   "metadata": {},
   "outputs": [
    {
     "name": "stdout",
     "output_type": "stream",
     "text": [
      "enter any input age=56\n",
      "enter any input name=tyu\n",
      "enter any input add=tyu\n",
      "56tyutyu\n"
     ]
    }
   ],
   "source": [
    "#string flaterring\n",
    "age=input(\"enter any input age=\")\n",
    "name=input(\"enter any input name=\")\n",
    "add=input (\"enter any input add=\")\n",
    "info=f\"{age}{name}{add}\"\n",
    "print(info)\n",
    "\n"
   ]
  },
  {
   "cell_type": "code",
   "execution_count": 9,
   "id": "47297cc6",
   "metadata": {},
   "outputs": [
    {
     "name": "stdout",
     "output_type": "stream",
     "text": [
      "22\n",
      "una hsiakad si eman ym\n"
     ]
    }
   ],
   "source": [
    "a='my name is dakaish anu'\n",
    "l=len(a)\n",
    "print(l)\n",
    "print(a[l::-1])"
   ]
  },
  {
   "cell_type": "code",
   "execution_count": 10,
   "id": "d1b4ecba",
   "metadata": {},
   "outputs": [
    {
     "name": "stdout",
     "output_type": "stream",
     "text": [
      "appleball\n"
     ]
    }
   ],
   "source": [
    "anu='apple'\n",
    "binu='ball'\n",
    "sita=anu+binu\n",
    "print(sita)"
   ]
  },
  {
   "cell_type": "code",
   "execution_count": 18,
   "id": "4d50816c",
   "metadata": {},
   "outputs": [
    {
     "name": "stdout",
     "output_type": "stream",
     "text": [
      "heloworldiampython"
     ]
    }
   ],
   "source": [
    "a=\"helo world i am python\"\n",
    "for i in a:   #read\n",
    "    if i==\" \":\n",
    "        continue\n",
    "    print(i,end=\"\")"
   ]
  },
  {
   "cell_type": "code",
   "execution_count": 22,
   "id": "40266cad",
   "metadata": {},
   "outputs": [
    {
     "name": "stdout",
     "output_type": "stream",
     "text": [
      "yes 1\n"
     ]
    }
   ],
   "source": [
    "a=\"hello world I am a python\"\n",
    "if \"python\" in a:\n",
    "    x=a.count(\"python\")\n",
    "    print(\"yes\",x)"
   ]
  },
  {
   "cell_type": "code",
   "execution_count": 4,
   "id": "9741c9a6",
   "metadata": {},
   "outputs": [
    {
     "name": "stdout",
     "output_type": "stream",
     "text": [
      "enter any  search value=am\n",
      "yes 1\n"
     ]
    }
   ],
   "source": [
    "a=\"hello world I am a python\"\n",
    "value=input(\"enter any  search value=\")\n",
    "if value in a:\n",
    "    x=a.count(value)\n",
    "    print(\"yes\",x)"
   ]
  },
  {
   "cell_type": "code",
   "execution_count": 3,
   "id": "32e467dc",
   "metadata": {},
   "outputs": [
    {
     "data": {
      "text/plain": [
       "'HELLO WORLD I AM A PYTHON'"
      ]
     },
     "execution_count": 3,
     "metadata": {},
     "output_type": "execute_result"
    }
   ],
   "source": [
    "a=\"hello world I am a python\"\n",
    "a.upper()"
   ]
  },
  {
   "cell_type": "code",
   "execution_count": 6,
   "id": "5072506a",
   "metadata": {},
   "outputs": [
    {
     "name": "stdout",
     "output_type": "stream",
     "text": [
      "enter any  search value=\"\"\n"
     ]
    }
   ],
   "source": [
    "a=\"Hello AM I PYTHON TO YOU\"\n",
    "a_lower=a.lower()\n",
    "value=input(\"enter any  search value=\")\n",
    "value_lower=value.lower()\n",
    "if value_lower in a_lower:\n",
    "    x=a_lower.count(value_lower)\n",
    "    print(\"yes\",x)\n",
    "\n",
    "    "
   ]
  },
  {
   "cell_type": "code",
   "execution_count": 9,
   "id": "7ced75cd",
   "metadata": {},
   "outputs": [
    {
     "name": "stdout",
     "output_type": "stream",
     "text": [
      "enter b=\n",
      "yes 18\n"
     ]
    }
   ],
   "source": [
    "a=\"hello aunty aunty\"\n",
    "b=input(\"enter b=\")\n",
    "if b in a:\n",
    "    x=a.count(b)\n",
    "    print(\"yes\",x)"
   ]
  },
  {
   "cell_type": "code",
   "execution_count": 2,
   "id": "c51b8829",
   "metadata": {},
   "outputs": [
    {
     "name": "stdout",
     "output_type": "stream",
     "text": [
      "Hello dear maya gita\n"
     ]
    }
   ],
   "source": [
    "#replace\n",
    "a=\"Hello dear maya sita\"\n",
    "\n",
    "if \"sita\" in a:\n",
    "    x=a.replace(\"sita\",\"gita\")\n",
    "    print(x)\n"
   ]
  },
  {
   "cell_type": "markdown",
   "id": "c785c77c",
   "metadata": {},
   "source": []
  },
  {
   "cell_type": "code",
   "execution_count": 3,
   "id": "c0f5d208",
   "metadata": {},
   "outputs": [
    {
     "name": "stdout",
     "output_type": "stream",
     "text": [
      "enter name=shyam\n",
      "enter name=tiyr\n"
     ]
    },
    {
     "data": {
      "text/plain": [
       "'ram tiyr gita hari nita'"
      ]
     },
     "execution_count": 3,
     "metadata": {},
     "output_type": "execute_result"
    }
   ],
   "source": [
    "a=\"ram shyam gita hari nita\"\n",
    "name=input(\"enter name=\")\n",
    "replace_name=input(\"enter name=\")\n",
    "a.replace(name,replace_name)"
   ]
  },
  {
   "cell_type": "code",
   "execution_count": 3,
   "id": "e6145962",
   "metadata": {},
   "outputs": [
    {
     "data": {
      "text/plain": [
       "['shyam', 'gita', 'hari', 'nita']"
      ]
     },
     "execution_count": 3,
     "metadata": {},
     "output_type": "execute_result"
    }
   ],
   "source": [
    "a=\"ram shyam gita hari nita\"\n",
    "b=a.replace(\"ram\",\"\")\n",
    "b.split()"
   ]
  },
  {
   "cell_type": "code",
   "execution_count": null,
   "id": "d4559b8a",
   "metadata": {},
   "outputs": [],
   "source": [
    "s = ''\n",
    "n = int(input(\"Enter n = \"))\n",
    "for i in range(n):\n",
    "    name  = input(\"Enter name = \")\n",
    "    price = int(input(\"Enter price = \"))\n",
    "    quantity = int(input(\"Enter quantity = \"))\n",
    "    total = price * quantity\n",
    "    \n",
    "    info = f\"{name},{price},{quantity},{total}\"\n",
    "    s = s+info+\"\\n\"\n",
    "print(s)\n"
   ]
  }
 ],
 "metadata": {
  "kernelspec": {
   "display_name": "Python 3",
   "language": "python",
   "name": "python3"
  },
  "language_info": {
   "codemirror_mode": {
    "name": "ipython",
    "version": 3
   },
   "file_extension": ".py",
   "mimetype": "text/x-python",
   "name": "python",
   "nbconvert_exporter": "python",
   "pygments_lexer": "ipython3",
   "version": "3.8.8"
  }
 },
 "nbformat": 4,
 "nbformat_minor": 5
}
