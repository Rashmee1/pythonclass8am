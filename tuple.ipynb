{
 "cells": [
  {
   "cell_type": "code",
   "execution_count": 1,
   "id": "de611aa6",
   "metadata": {},
   "outputs": [
    {
     "data": {
      "text/plain": [
       "tuple"
      ]
     },
     "execution_count": 1,
     "metadata": {},
     "output_type": "execute_result"
    }
   ],
   "source": [
    "a=('rasmi','parbin')\n",
    "type(a)"
   ]
  },
  {
   "cell_type": "code",
   "execution_count": 2,
   "id": "c30d3c67",
   "metadata": {},
   "outputs": [
    {
     "name": "stdout",
     "output_type": "stream",
     "text": [
      "enter name=ram\n",
      "1\n",
      "3\n"
     ]
    }
   ],
   "source": [
    "a=('rasmi','ram','shyam','ram')\n",
    "n=len(a)\n",
    "name=input(\"enter name=\")\n",
    "for i in range(n):\n",
    "        if a[i]==name:\n",
    "            print(i)"
   ]
  },
  {
   "cell_type": "code",
   "execution_count": 10,
   "id": "6831660e",
   "metadata": {},
   "outputs": [
    {
     "name": "stdout",
     "output_type": "stream",
     "text": [
      "enter name=rasmi\n",
      "yes 1\n",
      "yes 1\n",
      "yes 1\n",
      "yes 1\n"
     ]
    }
   ],
   "source": [
    "a=('rasmi','ram','shyam','ram')\n",
    "n=len(a)\n",
    "name=input(\"enter name=\")\n",
    "for i in range(n):\n",
    "        x=a.count(name)\n",
    "        print(\"yes\",x)\n",
    "        "
   ]
  },
  {
   "cell_type": "code",
   "execution_count": 11,
   "id": "a3b60e97",
   "metadata": {},
   "outputs": [
    {
     "name": "stdout",
     "output_type": "stream",
     "text": [
      "enter n=2\n",
      "enterx=67\n",
      "('67',)\n",
      "enterx=67\n",
      "('67', '67')\n"
     ]
    }
   ],
   "source": [
    "a=tuple()\n",
    "n=int(input(\"enter n=\"))\n",
    "for i in range (n):\n",
    "    x=input(\"enterx=\")\n",
    "    a=a+(x,)\n",
    "    print(a)\n",
    "    \n"
   ]
  },
  {
   "cell_type": "code",
   "execution_count": 22,
   "id": "5ca01884",
   "metadata": {},
   "outputs": [
    {
     "name": "stdout",
     "output_type": "stream",
     "text": [
      "[('sita', 'ram', 'ukal', 'tyo')]\n"
     ]
    }
   ],
   "source": [
    "a=[('rasmi','ram','shyam','ram'),('sita','ram','ukal','tyo')]\n",
    "for i in  a:\n",
    "    del a[0]\n",
    "    print(a)\n",
    "    "
   ]
  },
  {
   "cell_type": "code",
   "execution_count": 28,
   "id": "8fea56c9",
   "metadata": {},
   "outputs": [
    {
     "name": "stdout",
     "output_type": "stream",
     "text": [
      "[['Ram', 34, 'Kathmansu'], ['Shyam', 23, 'Patan']]\n"
     ]
    }
   ],
   "source": [
    "c = []\n",
    "a = (('Ram', 34, 'Kathmansu'), ('Shyam', 23, 'Patan'))\n",
    "for i in  a:\n",
    "    x=list(i)\n",
    "    c.append(x)\n",
    "print(c)"
   ]
  },
  {
   "cell_type": "code",
   "execution_count": 4,
   "id": "b700a689",
   "metadata": {},
   "outputs": [
    {
     "name": "stdout",
     "output_type": "stream",
     "text": [
      "enter n=2\n",
      "enter name=gc\n",
      "enter address=44\n",
      "enter name=hchc\n",
      "enter address=55\n",
      "(('gc', 44), ('hchc', 55))\n"
     ]
    }
   ],
   "source": [
    "a=tuple()\n",
    "n=int(input(\"enter n=\"))\n",
    "for i in range (n):\n",
    "    name=input(\"enter name=\")\n",
    "    address=int(input(\"enter address=\"))\n",
    "    x=(name,address)\n",
    "    a=a+(x,)\n",
    "\n",
    "print(a)"
   ]
  },
  {
   "cell_type": "code",
   "execution_count": null,
   "id": "8b355332",
   "metadata": {},
   "outputs": [],
   "source": []
  }
 ],
 "metadata": {
  "kernelspec": {
   "display_name": "Python 3",
   "language": "python",
   "name": "python3"
  },
  "language_info": {
   "codemirror_mode": {
    "name": "ipython",
    "version": 3
   },
   "file_extension": ".py",
   "mimetype": "text/x-python",
   "name": "python",
   "nbconvert_exporter": "python",
   "pygments_lexer": "ipython3",
   "version": "3.8.8"
  }
 },
 "nbformat": 4,
 "nbformat_minor": 5
}
